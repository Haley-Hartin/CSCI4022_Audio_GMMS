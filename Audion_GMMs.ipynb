{
 "cells": [
  {
   "cell_type": "code",
   "execution_count": 1,
   "metadata": {},
   "outputs": [],
   "source": [
    "import spotipy\n",
    "from spotipy.oauth2 import SpotifyClientCredentials\n",
    "import pandas as pd\n",
    "import numpy as np\n",
    "import matplotlib.pyplot as plt\n",
    "import scipy.stats as stats\n",
    "import statsmodels.api as sm\n",
    "import statistics\n",
    "from statistics import mode\n",
    "import sys\n",
    "import aubio\n",
    "import os\n",
    "import wget"
   ]
  },
  {
   "cell_type": "markdown",
   "metadata": {},
   "source": [
    "# Functions for extracting Audio Features"
   ]
  },
  {
   "cell_type": "code",
   "execution_count": 2,
   "metadata": {},
   "outputs": [],
   "source": [
    "def beats_to_bpm(beats, path):\n",
    "    # if enough beats are found, convert to periods then to bpm\n",
    "    if len(beats) > 1:\n",
    "        if len(beats) < 4:\n",
    "            print(\"few beats found in {:s}\".format(path))\n",
    "        bpms = 60./np.diff(beats)\n",
    "        return np.median(bpms)\n",
    "    else:\n",
    "        print(\"not enough beats\")\n",
    "        return 0\n",
    "\n",
    "def extractAudioFeatures(path):\n",
    "    samplerate, win_s, hop_s = 44100, 512, 256\n",
    "    src = aubio.source(path, samplerate, hop_s)\n",
    "    samplerate = src.samplerate\n",
    "    hop_s = src.hop_size\n",
    "\n",
    "    # Tempo vars\n",
    "    tempo = aubio.tempo(\"specdiff\", win_s, hop_s, samplerate)\n",
    "    beats = []\n",
    "\n",
    "    # Energy vars\n",
    "    pv = aubio.pvoc(win_s, hop_s)\n",
    "    f = aubio.filterbank(40, win_s)\n",
    "    f.set_mel_coeffs_slaney(samplerate)\n",
    "    energies = np.zeros((40,))\n",
    "\n",
    "    # Pitch vars\n",
    "    tolerance = 0.8\n",
    "    pitch_o = aubio.pitch(\"yin\", win_s, hop_s, samplerate)\n",
    "    pitch_o.set_unit(\"midi\")\n",
    "    pitch_o.set_tolerance(tolerance)\n",
    "    pitches = []\n",
    "\n",
    "    # Note vars\n",
    "    notes = []\n",
    "    notes_o = aubio.notes(\"default\", win_s, hop_s, samplerate)\n",
    "\n",
    "    # Onset vars\n",
    "    onset = aubio.onset(\"default\", win_s, hop_s, samplerate)\n",
    "    onsets = []\n",
    "\n",
    "    # Do all audio extraction at once to save ~5x time\n",
    "    total_frames = 0\n",
    "    while True:\n",
    "        samples, read = src()\n",
    "\n",
    "        # Tempo\n",
    "        is_beat = tempo(samples)\n",
    "        if is_beat:\n",
    "            this_beat = tempo.get_last_s()\n",
    "            beats.append(this_beat)\n",
    "\n",
    "        # Energies\n",
    "        fftgrain = pv(samples)\n",
    "        new_energies = f(fftgrain)\n",
    "        energies = np.vstack([energies, new_energies])\n",
    "\n",
    "        # Pitches\n",
    "        pitch = pitch_o(samples)[0]\n",
    "        pitches += [pitch]\n",
    "\n",
    "        # Notes\n",
    "        new_note = notes_o(samples)\n",
    "        if (new_note[0] != 0):\n",
    "            for n in new_note:\n",
    "                if (n not in notes):\n",
    "                    notes.append(n)\n",
    "\n",
    "        # Onsets\n",
    "        if onset(samples):\n",
    "            onsets.append(onset.get_last())\n",
    "\n",
    "        total_frames += read\n",
    "        if read < hop_s: \n",
    "            break\n",
    "\n",
    "    # Do a little more calculation on onsets\n",
    "    diff = 0\n",
    "    first = True\n",
    "    last = 0\n",
    "    cntr = 0\n",
    "    for i in onsets:\n",
    "        if (not first):\n",
    "            diff += abs(i - last)\n",
    "            cntr += 1\n",
    "        first = False\n",
    "        last = i\n",
    "\n",
    "    if (cntr == 0): \n",
    "        onsetToReturn = 0\n",
    "    else:\n",
    "        onsetToReturn =  i / cntr\n",
    "\n",
    "    # Return tuple of audio features we found\n",
    "    return (beats_to_bpm(beats, path), np.mean(energies), (np.mean(pitches)), len(notes), onsetToReturn)"
   ]
  },
  {
   "cell_type": "markdown",
   "metadata": {},
   "source": [
    "# Extract Data\n",
    "***\n",
    "## Read in Songs from Spotify API\n"
   ]
  },
  {
   "cell_type": "code",
   "execution_count": 3,
   "metadata": {},
   "outputs": [],
   "source": [
    "# Connecting to spotify API using Spotipy\n",
    "cid =\"12b051049eb14a05ac3dd252770b6bd3\" \n",
    "secret = \"8844a8e5f63f4fa3998ba69811b2e005\"\n",
    "\n",
    "client_credentials_manager = SpotifyClientCredentials(client_id=cid, client_secret=secret)\n",
    "sp = spotipy.Spotify(client_credentials_manager=client_credentials_manager)"
   ]
  },
  {
   "cell_type": "code",
   "execution_count": 4,
   "metadata": {},
   "outputs": [
    {
     "name": "stdout",
     "output_type": "stream",
     "text": [
      "Found all required information for 752 songs\n"
     ]
    }
   ],
   "source": [
    "artist_name = []\n",
    "track_name = []\n",
    "popularity = []\n",
    "track_id = []\n",
    "genres = []\n",
    "audio = []\n",
    "filename = ''\n",
    "os.makedirs(os.path.join(os.getcwd(), 'audioFiles'), exist_ok=True)\n",
    "#changed to 300 for testing\n",
    "#loading in 100 different tracks from 2010 with Spotipy\n",
    "for i in range(0,1000,10):\n",
    "    track_results = sp.search(q='year:2010', type='track', limit=10,offset=i)\n",
    "    for i, t in enumerate(track_results['tracks']['items']):\n",
    "        # Only download audio data for songs with a preview url\n",
    "        if(t['preview_url']):\n",
    "            \n",
    "            previewUrl = t['preview_url']\n",
    "            name = t['name']\n",
    "            name = name.replace('/', '')\n",
    "            name = name.replace(':', '')\n",
    "            \n",
    "            try:\n",
    "                # Download preview of audio file from Spotify\n",
    "                filepath = os.path.join(os.getcwd(), 'audioFiles', name + '.mp3')\n",
    "                \n",
    "                # Only download if it does not already exist\n",
    "                if not os.path.isfile(filepath):\n",
    "                    filename = wget.download(previewUrl, out=filepath)\n",
    "                else:\n",
    "                    filename = filepath\n",
    "\n",
    "                # Populating lists we will use for DF later\n",
    "                artist_name.append(t['artists'][0]['name'])\n",
    "                track_name.append(t['name'])\n",
    "                track_id.append(t['id'])\n",
    "                popularity.append(t['popularity'])\n",
    "                artist = sp.artist(t[\"artists\"][0][\"external_urls\"][\"spotify\"])\n",
    "                genres.append(artist[\"genres\"]) \n",
    "                audio.append(filename)\n",
    "\n",
    "            except Exception as e:\n",
    "                pass\n",
    "            \n",
    "print(f\"Found all required information for {len(audio)} songs\")            "
   ]
  },
  {
   "cell_type": "code",
   "execution_count": 5,
   "metadata": {},
   "outputs": [
    {
     "data": {
      "text/html": [
       "<div>\n",
       "<style scoped>\n",
       "    .dataframe tbody tr th:only-of-type {\n",
       "        vertical-align: middle;\n",
       "    }\n",
       "\n",
       "    .dataframe tbody tr th {\n",
       "        vertical-align: top;\n",
       "    }\n",
       "\n",
       "    .dataframe thead th {\n",
       "        text-align: right;\n",
       "    }\n",
       "</style>\n",
       "<table border=\"1\" class=\"dataframe\">\n",
       "  <thead>\n",
       "    <tr style=\"text-align: right;\">\n",
       "      <th></th>\n",
       "      <th>artist_name</th>\n",
       "      <th>track_name</th>\n",
       "      <th>track_id</th>\n",
       "      <th>popularity</th>\n",
       "    </tr>\n",
       "  </thead>\n",
       "  <tbody>\n",
       "    <tr>\n",
       "      <th>0</th>\n",
       "      <td>Bruno Mars</td>\n",
       "      <td>Talking to the Moon</td>\n",
       "      <td>161DnLWsx1i3u1JT05lzqU</td>\n",
       "      <td>84</td>\n",
       "    </tr>\n",
       "    <tr>\n",
       "      <th>1</th>\n",
       "      <td>Waylon Jennings</td>\n",
       "      <td>The Year 2003 Minus 25 - Remastered</td>\n",
       "      <td>0sFq478LIo9BFwf2qzMzzF</td>\n",
       "      <td>44</td>\n",
       "    </tr>\n",
       "    <tr>\n",
       "      <th>2</th>\n",
       "      <td>Mac Miller</td>\n",
       "      <td>The Spins</td>\n",
       "      <td>51pshtuYkgUQnt5huMPbKL</td>\n",
       "      <td>79</td>\n",
       "    </tr>\n",
       "    <tr>\n",
       "      <th>3</th>\n",
       "      <td>Anthem Lights</td>\n",
       "      <td>Best of 2010: Baby / Break Even / Need You Now...</td>\n",
       "      <td>5J1iMCE9SnuOqwRwOpVxhp</td>\n",
       "      <td>43</td>\n",
       "    </tr>\n",
       "    <tr>\n",
       "      <th>4</th>\n",
       "      <td>Roar</td>\n",
       "      <td>I Can't Handle Change</td>\n",
       "      <td>0I1eFRytp4XRhLCjT6tZm7</td>\n",
       "      <td>81</td>\n",
       "    </tr>\n",
       "  </tbody>\n",
       "</table>\n",
       "</div>"
      ],
      "text/plain": [
       "       artist_name                                         track_name  \\\n",
       "0       Bruno Mars                                Talking to the Moon   \n",
       "1  Waylon Jennings                The Year 2003 Minus 25 - Remastered   \n",
       "2       Mac Miller                                          The Spins   \n",
       "3    Anthem Lights  Best of 2010: Baby / Break Even / Need You Now...   \n",
       "4             Roar                              I Can't Handle Change   \n",
       "\n",
       "                 track_id  popularity  \n",
       "0  161DnLWsx1i3u1JT05lzqU          84  \n",
       "1  0sFq478LIo9BFwf2qzMzzF          44  \n",
       "2  51pshtuYkgUQnt5huMPbKL          79  \n",
       "3  5J1iMCE9SnuOqwRwOpVxhp          43  \n",
       "4  0I1eFRytp4XRhLCjT6tZm7          81  "
      ]
     },
     "execution_count": 5,
     "metadata": {},
     "output_type": "execute_result"
    }
   ],
   "source": [
    "# Storing data in dataframe\n",
    "df_tracks = pd.DataFrame({'artist_name':artist_name,'track_name':track_name,'track_id':track_id,'popularity':popularity})\n",
    "df_tracks.head()"
   ]
  },
  {
   "cell_type": "markdown",
   "metadata": {},
   "source": [
    "# Extract Audio Features"
   ]
  },
  {
   "cell_type": "markdown",
   "metadata": {},
   "source": [
    "## Spotify Audio Features"
   ]
  },
  {
   "cell_type": "code",
   "execution_count": 6,
   "metadata": {},
   "outputs": [],
   "source": [
    "rows = []\n",
    "batchsize = 100\n",
    "\n",
    "# Create list of audio features for each song\n",
    "for i in range(0,len(df_tracks['track_id']),batchsize):\n",
    "    batch = df_tracks['track_id'][i:i+batchsize]\n",
    "    feature_results = sp.audio_features(batch)\n",
    "    for i, t in enumerate(feature_results):\n",
    "        if t != None:\n",
    "            rows.append(t)\n"
   ]
  },
  {
   "cell_type": "code",
   "execution_count": 7,
   "metadata": {},
   "outputs": [
    {
     "name": "stdout",
     "output_type": "stream",
     "text": [
      "Shape of the dataset: (752, 18)\n"
     ]
    },
    {
     "data": {
      "text/html": [
       "<div>\n",
       "<style scoped>\n",
       "    .dataframe tbody tr th:only-of-type {\n",
       "        vertical-align: middle;\n",
       "    }\n",
       "\n",
       "    .dataframe tbody tr th {\n",
       "        vertical-align: top;\n",
       "    }\n",
       "\n",
       "    .dataframe thead th {\n",
       "        text-align: right;\n",
       "    }\n",
       "</style>\n",
       "<table border=\"1\" class=\"dataframe\">\n",
       "  <thead>\n",
       "    <tr style=\"text-align: right;\">\n",
       "      <th></th>\n",
       "      <th>danceability</th>\n",
       "      <th>energy</th>\n",
       "      <th>key</th>\n",
       "      <th>loudness</th>\n",
       "      <th>mode</th>\n",
       "      <th>speechiness</th>\n",
       "      <th>acousticness</th>\n",
       "      <th>instrumentalness</th>\n",
       "      <th>liveness</th>\n",
       "      <th>valence</th>\n",
       "      <th>tempo</th>\n",
       "      <th>type</th>\n",
       "      <th>id</th>\n",
       "      <th>uri</th>\n",
       "      <th>track_href</th>\n",
       "      <th>analysis_url</th>\n",
       "      <th>duration_ms</th>\n",
       "      <th>time_signature</th>\n",
       "    </tr>\n",
       "  </thead>\n",
       "  <tbody>\n",
       "    <tr>\n",
       "      <th>0</th>\n",
       "      <td>0.523</td>\n",
       "      <td>0.606</td>\n",
       "      <td>1</td>\n",
       "      <td>-4.754</td>\n",
       "      <td>0</td>\n",
       "      <td>0.0301</td>\n",
       "      <td>0.5120</td>\n",
       "      <td>0.000000</td>\n",
       "      <td>0.1060</td>\n",
       "      <td>0.065</td>\n",
       "      <td>145.837</td>\n",
       "      <td>audio_features</td>\n",
       "      <td>161DnLWsx1i3u1JT05lzqU</td>\n",
       "      <td>spotify:track:161DnLWsx1i3u1JT05lzqU</td>\n",
       "      <td>https://api.spotify.com/v1/tracks/161DnLWsx1i3...</td>\n",
       "      <td>https://api.spotify.com/v1/audio-analysis/161D...</td>\n",
       "      <td>217867</td>\n",
       "      <td>4</td>\n",
       "    </tr>\n",
       "    <tr>\n",
       "      <th>1</th>\n",
       "      <td>0.626</td>\n",
       "      <td>0.457</td>\n",
       "      <td>4</td>\n",
       "      <td>-13.785</td>\n",
       "      <td>1</td>\n",
       "      <td>0.0384</td>\n",
       "      <td>0.3550</td>\n",
       "      <td>0.000009</td>\n",
       "      <td>0.0668</td>\n",
       "      <td>0.474</td>\n",
       "      <td>102.166</td>\n",
       "      <td>audio_features</td>\n",
       "      <td>0sFq478LIo9BFwf2qzMzzF</td>\n",
       "      <td>spotify:track:0sFq478LIo9BFwf2qzMzzF</td>\n",
       "      <td>https://api.spotify.com/v1/tracks/0sFq478LIo9B...</td>\n",
       "      <td>https://api.spotify.com/v1/audio-analysis/0sFq...</td>\n",
       "      <td>184267</td>\n",
       "      <td>4</td>\n",
       "    </tr>\n",
       "    <tr>\n",
       "      <th>2</th>\n",
       "      <td>0.794</td>\n",
       "      <td>0.766</td>\n",
       "      <td>9</td>\n",
       "      <td>-3.894</td>\n",
       "      <td>0</td>\n",
       "      <td>0.0377</td>\n",
       "      <td>0.0135</td>\n",
       "      <td>0.000000</td>\n",
       "      <td>0.0785</td>\n",
       "      <td>0.550</td>\n",
       "      <td>127.007</td>\n",
       "      <td>audio_features</td>\n",
       "      <td>51pshtuYkgUQnt5huMPbKL</td>\n",
       "      <td>spotify:track:51pshtuYkgUQnt5huMPbKL</td>\n",
       "      <td>https://api.spotify.com/v1/tracks/51pshtuYkgUQ...</td>\n",
       "      <td>https://api.spotify.com/v1/audio-analysis/51ps...</td>\n",
       "      <td>195873</td>\n",
       "      <td>4</td>\n",
       "    </tr>\n",
       "    <tr>\n",
       "      <th>3</th>\n",
       "      <td>0.417</td>\n",
       "      <td>0.443</td>\n",
       "      <td>5</td>\n",
       "      <td>-6.261</td>\n",
       "      <td>1</td>\n",
       "      <td>0.0328</td>\n",
       "      <td>0.7090</td>\n",
       "      <td>0.000000</td>\n",
       "      <td>0.2170</td>\n",
       "      <td>0.470</td>\n",
       "      <td>119.903</td>\n",
       "      <td>audio_features</td>\n",
       "      <td>5J1iMCE9SnuOqwRwOpVxhp</td>\n",
       "      <td>spotify:track:5J1iMCE9SnuOqwRwOpVxhp</td>\n",
       "      <td>https://api.spotify.com/v1/tracks/5J1iMCE9SnuO...</td>\n",
       "      <td>https://api.spotify.com/v1/audio-analysis/5J1i...</td>\n",
       "      <td>155342</td>\n",
       "      <td>4</td>\n",
       "    </tr>\n",
       "    <tr>\n",
       "      <th>4</th>\n",
       "      <td>0.247</td>\n",
       "      <td>0.438</td>\n",
       "      <td>5</td>\n",
       "      <td>-8.479</td>\n",
       "      <td>1</td>\n",
       "      <td>0.0358</td>\n",
       "      <td>0.0455</td>\n",
       "      <td>0.000871</td>\n",
       "      <td>0.1110</td>\n",
       "      <td>0.390</td>\n",
       "      <td>185.716</td>\n",
       "      <td>audio_features</td>\n",
       "      <td>0I1eFRytp4XRhLCjT6tZm7</td>\n",
       "      <td>spotify:track:0I1eFRytp4XRhLCjT6tZm7</td>\n",
       "      <td>https://api.spotify.com/v1/tracks/0I1eFRytp4XR...</td>\n",
       "      <td>https://api.spotify.com/v1/audio-analysis/0I1e...</td>\n",
       "      <td>198213</td>\n",
       "      <td>3</td>\n",
       "    </tr>\n",
       "  </tbody>\n",
       "</table>\n",
       "</div>"
      ],
      "text/plain": [
       "   danceability  energy  key  loudness  mode  speechiness  acousticness  \\\n",
       "0         0.523   0.606    1    -4.754     0       0.0301        0.5120   \n",
       "1         0.626   0.457    4   -13.785     1       0.0384        0.3550   \n",
       "2         0.794   0.766    9    -3.894     0       0.0377        0.0135   \n",
       "3         0.417   0.443    5    -6.261     1       0.0328        0.7090   \n",
       "4         0.247   0.438    5    -8.479     1       0.0358        0.0455   \n",
       "\n",
       "   instrumentalness  liveness  valence    tempo            type  \\\n",
       "0          0.000000    0.1060    0.065  145.837  audio_features   \n",
       "1          0.000009    0.0668    0.474  102.166  audio_features   \n",
       "2          0.000000    0.0785    0.550  127.007  audio_features   \n",
       "3          0.000000    0.2170    0.470  119.903  audio_features   \n",
       "4          0.000871    0.1110    0.390  185.716  audio_features   \n",
       "\n",
       "                       id                                   uri  \\\n",
       "0  161DnLWsx1i3u1JT05lzqU  spotify:track:161DnLWsx1i3u1JT05lzqU   \n",
       "1  0sFq478LIo9BFwf2qzMzzF  spotify:track:0sFq478LIo9BFwf2qzMzzF   \n",
       "2  51pshtuYkgUQnt5huMPbKL  spotify:track:51pshtuYkgUQnt5huMPbKL   \n",
       "3  5J1iMCE9SnuOqwRwOpVxhp  spotify:track:5J1iMCE9SnuOqwRwOpVxhp   \n",
       "4  0I1eFRytp4XRhLCjT6tZm7  spotify:track:0I1eFRytp4XRhLCjT6tZm7   \n",
       "\n",
       "                                          track_href  \\\n",
       "0  https://api.spotify.com/v1/tracks/161DnLWsx1i3...   \n",
       "1  https://api.spotify.com/v1/tracks/0sFq478LIo9B...   \n",
       "2  https://api.spotify.com/v1/tracks/51pshtuYkgUQ...   \n",
       "3  https://api.spotify.com/v1/tracks/5J1iMCE9SnuO...   \n",
       "4  https://api.spotify.com/v1/tracks/0I1eFRytp4XR...   \n",
       "\n",
       "                                        analysis_url  duration_ms  \\\n",
       "0  https://api.spotify.com/v1/audio-analysis/161D...       217867   \n",
       "1  https://api.spotify.com/v1/audio-analysis/0sFq...       184267   \n",
       "2  https://api.spotify.com/v1/audio-analysis/51ps...       195873   \n",
       "3  https://api.spotify.com/v1/audio-analysis/5J1i...       155342   \n",
       "4  https://api.spotify.com/v1/audio-analysis/0I1e...       198213   \n",
       "\n",
       "   time_signature  \n",
       "0               4  \n",
       "1               4  \n",
       "2               4  \n",
       "3               4  \n",
       "4               3  "
      ]
     },
     "execution_count": 7,
     "metadata": {},
     "output_type": "execute_result"
    }
   ],
   "source": [
    "# Storing audio feature data of each song in a dataframe\n",
    "df_audio_features = pd.DataFrame.from_dict(rows,orient='columns')\n",
    "print(\"Shape of the dataset:\", df_audio_features.shape)\n",
    "df_audio_features.head()"
   ]
  },
  {
   "cell_type": "markdown",
   "metadata": {},
   "source": [
    "## Aubio Audio Features"
   ]
  },
  {
   "cell_type": "code",
   "execution_count": 8,
   "metadata": {},
   "outputs": [
    {
     "name": "stdout",
     "output_type": "stream",
     "text": [
      "Found 752 songs to extract audio features from\n",
      "Processed 75 songs\n",
      "Processed 150 songs\n",
      "Processed 225 songs\n",
      "Processed 300 songs\n",
      "Processed 375 songs\n",
      "Processed 450 songs\n",
      "Processed 525 songs\n",
      "Processed 600 songs\n",
      "Processed 675 songs\n",
      "Processed 750 songs\n"
     ]
    }
   ],
   "source": [
    "tempo=[]\n",
    "energy=[]\n",
    "pitch=[]\n",
    "onset=[]\n",
    "notes=[]\n",
    "n = len(audio)\n",
    "print(f\"Found {n} songs to extract audio features from\")\n",
    "i = 1\n",
    "for song in audio:\n",
    "    # Status indicator, roughly every ~10%\n",
    "    if i % int(n / 10) == 0:\n",
    "        print(f\"Processed {i} songs\")\n",
    "    i += 1\n",
    "    \n",
    "    audioFeatures = extractAudioFeatures(song)\n",
    "    tempo.append(audioFeatures[0])\n",
    "    energy.append(audioFeatures[1])\n",
    "    pitch.append(audioFeatures[2])\n",
    "    notes.append(audioFeatures[3])\n",
    "    onset.append(audioFeatures[4])"
   ]
  },
  {
   "cell_type": "code",
   "execution_count": 9,
   "metadata": {},
   "outputs": [
    {
     "name": "stdout",
     "output_type": "stream",
     "text": [
      "752\n",
      "752\n",
      "752\n",
      "752\n",
      "752\n"
     ]
    },
    {
     "data": {
      "text/html": [
       "<div>\n",
       "<style scoped>\n",
       "    .dataframe tbody tr th:only-of-type {\n",
       "        vertical-align: middle;\n",
       "    }\n",
       "\n",
       "    .dataframe tbody tr th {\n",
       "        vertical-align: top;\n",
       "    }\n",
       "\n",
       "    .dataframe thead th {\n",
       "        text-align: right;\n",
       "    }\n",
       "</style>\n",
       "<table border=\"1\" class=\"dataframe\">\n",
       "  <thead>\n",
       "    <tr style=\"text-align: right;\">\n",
       "      <th></th>\n",
       "      <th>artist_name</th>\n",
       "      <th>track_name</th>\n",
       "      <th>tempo</th>\n",
       "      <th>energy</th>\n",
       "      <th>pitch</th>\n",
       "      <th>onset</th>\n",
       "      <th>notes</th>\n",
       "    </tr>\n",
       "  </thead>\n",
       "  <tbody>\n",
       "    <tr>\n",
       "      <th>0</th>\n",
       "      <td>Bruno Mars</td>\n",
       "      <td>Talking to the Moon</td>\n",
       "      <td>147.904103</td>\n",
       "      <td>0.068742</td>\n",
       "      <td>65.028557</td>\n",
       "      <td>14525.314607</td>\n",
       "      <td>45</td>\n",
       "    </tr>\n",
       "    <tr>\n",
       "      <th>1</th>\n",
       "      <td>Waylon Jennings</td>\n",
       "      <td>The Year 2003 Minus 25 - Remastered</td>\n",
       "      <td>102.478727</td>\n",
       "      <td>0.025345</td>\n",
       "      <td>64.017937</td>\n",
       "      <td>8872.243243</td>\n",
       "      <td>43</td>\n",
       "    </tr>\n",
       "    <tr>\n",
       "      <th>2</th>\n",
       "      <td>Mac Miller</td>\n",
       "      <td>The Spins</td>\n",
       "      <td>128.048716</td>\n",
       "      <td>0.056839</td>\n",
       "      <td>72.513550</td>\n",
       "      <td>8894.885135</td>\n",
       "      <td>47</td>\n",
       "    </tr>\n",
       "    <tr>\n",
       "      <th>3</th>\n",
       "      <td>Anthem Lights</td>\n",
       "      <td>Best of 2010: Baby / Break Even / Need You Now...</td>\n",
       "      <td>122.932462</td>\n",
       "      <td>0.064571</td>\n",
       "      <td>70.766594</td>\n",
       "      <td>13841.430108</td>\n",
       "      <td>44</td>\n",
       "    </tr>\n",
       "    <tr>\n",
       "      <th>4</th>\n",
       "      <td>Roar</td>\n",
       "      <td>I Can't Handle Change</td>\n",
       "      <td>125.474279</td>\n",
       "      <td>0.043150</td>\n",
       "      <td>69.930077</td>\n",
       "      <td>27582.914894</td>\n",
       "      <td>36</td>\n",
       "    </tr>\n",
       "  </tbody>\n",
       "</table>\n",
       "</div>"
      ],
      "text/plain": [
       "       artist_name                                         track_name  \\\n",
       "0       Bruno Mars                                Talking to the Moon   \n",
       "1  Waylon Jennings                The Year 2003 Minus 25 - Remastered   \n",
       "2       Mac Miller                                          The Spins   \n",
       "3    Anthem Lights  Best of 2010: Baby / Break Even / Need You Now...   \n",
       "4             Roar                              I Can't Handle Change   \n",
       "\n",
       "        tempo    energy      pitch         onset  notes  \n",
       "0  147.904103  0.068742  65.028557  14525.314607     45  \n",
       "1  102.478727  0.025345  64.017937   8872.243243     43  \n",
       "2  128.048716  0.056839  72.513550   8894.885135     47  \n",
       "3  122.932462  0.064571  70.766594  13841.430108     44  \n",
       "4  125.474279  0.043150  69.930077  27582.914894     36  "
      ]
     },
     "execution_count": 9,
     "metadata": {},
     "output_type": "execute_result"
    }
   ],
   "source": [
    "print(len(tempo))\n",
    "print(len(energy))\n",
    "print(len(pitch))\n",
    "print(len(onset))\n",
    "print(len(notes))\n",
    "df_aubio_features = pd.DataFrame({'artist_name':artist_name,'track_name':track_name,'tempo':tempo,'energy':energy,'pitch':pitch,'onset':onset, 'notes':notes})\n",
    "df_aubio_features.head()"
   ]
  },
  {
   "cell_type": "markdown",
   "metadata": {},
   "source": [
    "# Create GMM "
   ]
  },
  {
   "cell_type": "code",
   "execution_count": 10,
   "metadata": {},
   "outputs": [],
   "source": [
    "# EM algo to create GMMs\n",
    "def EM(dat, k, n):\n",
    "    \n",
    "    p_class=np.zeros(k)\n",
    "    means=np.zeros((k,n))\n",
    "    covars=np.zeros((k,n,n))\n",
    "    mean_dist=np.array(0)\n",
    "    p_data_given_class=np.zeros((len(dat),k))\n",
    "\n",
    "    \n",
    "    # Initializations\n",
    "    init_idx=np.random.choice(range(len(dat)), size=k, replace=False)\n",
    "    \n",
    "    for dim in range(k):\n",
    "        covars[dim,:,:]=np.cov(np.transpose(dat))\n",
    "        means[dim,:]=dat.iloc[init_idx[dim]]\n",
    "        p_class[dim]=1/k\n",
    "    for step in range(50):  \n",
    "        # Bayes stuff: pdfs then pdf*mixtures, then normalize\n",
    "        for dim in range(k):\n",
    "            p_data_given_class[:,dim]=  np.array([stats.multivariate_normal.pdf(x=dat, mean=means[dim,:], cov=covars[dim,:,:])])\n",
    "        p_class_given_data=p_data_given_class*p_class\n",
    "\n",
    "        sums=np.sum(p_class_given_data, axis=1)\n",
    "        for dim in range(k):\n",
    "            p_class_given_data[:,dim]=p_class_given_data[:,dim]*(1/sums)\n",
    "        n_class = np.sum(p_class_given_data, axis=0)\n",
    "        p_class=n_class/len(dat)\n",
    "\n",
    "        # Mean and covar updates\n",
    "        for dim in range(k):\n",
    "            for f1 in range(n):\n",
    "                means[dim,f1]=np.sum(p_class_given_data[:,dim]*dat.iloc[:,f1])*(1/n_class[dim])\n",
    "                \n",
    "                for f2 in range(n):\n",
    "                    if (f1==f2):\n",
    "                        covars[dim,f1,f2]=np.sum(p_class_given_data[:,dim]*((dat.iloc[:,f1]-means[dim,f1])**2))*(1/n_class[dim])\n",
    "                    else:\n",
    "                        covars[dim,f1,f2]=np.sum(p_class_given_data[:,dim]*(dat.iloc[:,f1]-means[dim,f1])*(dat.iloc[:,f2]-means[dim,f2]))*(1/n_class[dim])                                                           \n",
    "    mean_dist=0\n",
    "    \n",
    "    for pt in range(len(dat)):\n",
    "        for dim in range(k):\n",
    "            # For each datum-mean pair, compute their prob-weighted distance apart\n",
    "            mean_dist+=np.sqrt(np.sum((means[dim,:]-np.array(dat.iloc[pt]))**2)*p_class_given_data[pt,dim])\n",
    "    mean_dist=mean_dist/(len(dat)*k)\n",
    "    return p_class, means, covars, mean_dist, p_class_given_data"
   ]
  },
  {
   "cell_type": "markdown",
   "metadata": {},
   "source": [
    "## Create GMM for k=2,4,6,8,10 clusters for Spotify Data"
   ]
  },
  {
   "cell_type": "code",
   "execution_count": 11,
   "metadata": {},
   "outputs": [],
   "source": [
    "# Create the GMMs with various K values to find the best K value to use\n",
    "test_df = df_audio_features[['acousticness', 'energy', 'tempo', 'liveness', 'valence']]\n",
    "\n",
    "p2, m2, c2,d2, pc2 = EM(test_df,2, 5)\n",
    "p4, m4, c4,d4, pc4 = EM(test_df,4, 5)\n",
    "p6, m6, c6,d6, pc6  = EM(test_df,6, 5)\n",
    "p8, m8, c8,d8, pc8  = EM(test_df,8, 5)\n",
    "p10, m10, c10,d10, pc10  = EM(test_df,10, 5)"
   ]
  },
  {
   "cell_type": "markdown",
   "metadata": {},
   "source": [
    "## Create GMM for k=2,4,6,8,10 clusters for Aubio Data"
   ]
  },
  {
   "cell_type": "code",
   "execution_count": 12,
   "metadata": {},
   "outputs": [
    {
     "ename": "LinAlgError",
     "evalue": "singular matrix",
     "output_type": "error",
     "traceback": [
      "\u001b[0;31m---------------------------------------------------------------------------\u001b[0m",
      "\u001b[0;31mLinAlgError\u001b[0m                               Traceback (most recent call last)",
      "\u001b[0;32m<ipython-input-12-20b86c1b8406>\u001b[0m in \u001b[0;36m<module>\u001b[0;34m\u001b[0m\n\u001b[1;32m      1\u001b[0m \u001b[0mtest_df_aubio_features\u001b[0m \u001b[0;34m=\u001b[0m \u001b[0mdf_aubio_features\u001b[0m\u001b[0;34m[\u001b[0m\u001b[0;34m[\u001b[0m\u001b[0;34m'notes'\u001b[0m\u001b[0;34m,\u001b[0m \u001b[0;34m'tempo'\u001b[0m\u001b[0;34m,\u001b[0m \u001b[0;34m'energy'\u001b[0m\u001b[0;34m,\u001b[0m \u001b[0;34m'pitch'\u001b[0m\u001b[0;34m,\u001b[0m \u001b[0;34m'onset'\u001b[0m\u001b[0;34m]\u001b[0m\u001b[0;34m]\u001b[0m\u001b[0;34m\u001b[0m\u001b[0;34m\u001b[0m\u001b[0m\n\u001b[1;32m      2\u001b[0m \u001b[0;34m\u001b[0m\u001b[0m\n\u001b[0;32m----> 3\u001b[0;31m \u001b[0map2\u001b[0m\u001b[0;34m,\u001b[0m \u001b[0mam2\u001b[0m\u001b[0;34m,\u001b[0m \u001b[0mac2\u001b[0m\u001b[0;34m,\u001b[0m\u001b[0mad2\u001b[0m\u001b[0;34m,\u001b[0m \u001b[0mapc2\u001b[0m \u001b[0;34m=\u001b[0m \u001b[0mEM\u001b[0m\u001b[0;34m(\u001b[0m\u001b[0mtest_df_aubio_features\u001b[0m\u001b[0;34m,\u001b[0m\u001b[0;36m2\u001b[0m\u001b[0;34m,\u001b[0m \u001b[0;36m5\u001b[0m\u001b[0;34m)\u001b[0m\u001b[0;34m\u001b[0m\u001b[0;34m\u001b[0m\u001b[0m\n\u001b[0m\u001b[1;32m      4\u001b[0m \u001b[0map4\u001b[0m\u001b[0;34m,\u001b[0m \u001b[0mam4\u001b[0m\u001b[0;34m,\u001b[0m \u001b[0mac4\u001b[0m\u001b[0;34m,\u001b[0m\u001b[0mad4\u001b[0m\u001b[0;34m,\u001b[0m \u001b[0mapc4\u001b[0m \u001b[0;34m=\u001b[0m \u001b[0mEM\u001b[0m\u001b[0;34m(\u001b[0m\u001b[0mtest_df_aubio_features\u001b[0m\u001b[0;34m,\u001b[0m\u001b[0;36m4\u001b[0m\u001b[0;34m,\u001b[0m \u001b[0;36m5\u001b[0m\u001b[0;34m)\u001b[0m\u001b[0;34m\u001b[0m\u001b[0;34m\u001b[0m\u001b[0m\n\u001b[1;32m      5\u001b[0m \u001b[0map6\u001b[0m\u001b[0;34m,\u001b[0m \u001b[0mam6\u001b[0m\u001b[0;34m,\u001b[0m \u001b[0mac6\u001b[0m\u001b[0;34m,\u001b[0m\u001b[0mad6\u001b[0m\u001b[0;34m,\u001b[0m \u001b[0mapc6\u001b[0m  \u001b[0;34m=\u001b[0m \u001b[0mEM\u001b[0m\u001b[0;34m(\u001b[0m\u001b[0mtest_df_aubio_features\u001b[0m\u001b[0;34m,\u001b[0m\u001b[0;36m6\u001b[0m\u001b[0;34m,\u001b[0m \u001b[0;36m5\u001b[0m\u001b[0;34m)\u001b[0m\u001b[0;34m\u001b[0m\u001b[0;34m\u001b[0m\u001b[0m\n",
      "\u001b[0;32m<ipython-input-10-f9ed0285def6>\u001b[0m in \u001b[0;36mEM\u001b[0;34m(dat, k, n)\u001b[0m\n\u001b[1;32m     19\u001b[0m         \u001b[0;31m# Bayes stuff: pdfs then pdf*mixtures, then normalize\u001b[0m\u001b[0;34m\u001b[0m\u001b[0;34m\u001b[0m\u001b[0;34m\u001b[0m\u001b[0m\n\u001b[1;32m     20\u001b[0m         \u001b[0;32mfor\u001b[0m \u001b[0mdim\u001b[0m \u001b[0;32min\u001b[0m \u001b[0mrange\u001b[0m\u001b[0;34m(\u001b[0m\u001b[0mk\u001b[0m\u001b[0;34m)\u001b[0m\u001b[0;34m:\u001b[0m\u001b[0;34m\u001b[0m\u001b[0;34m\u001b[0m\u001b[0m\n\u001b[0;32m---> 21\u001b[0;31m             \u001b[0mp_data_given_class\u001b[0m\u001b[0;34m[\u001b[0m\u001b[0;34m:\u001b[0m\u001b[0;34m,\u001b[0m\u001b[0mdim\u001b[0m\u001b[0;34m]\u001b[0m\u001b[0;34m=\u001b[0m  \u001b[0mnp\u001b[0m\u001b[0;34m.\u001b[0m\u001b[0marray\u001b[0m\u001b[0;34m(\u001b[0m\u001b[0;34m[\u001b[0m\u001b[0mstats\u001b[0m\u001b[0;34m.\u001b[0m\u001b[0mmultivariate_normal\u001b[0m\u001b[0;34m.\u001b[0m\u001b[0mpdf\u001b[0m\u001b[0;34m(\u001b[0m\u001b[0mx\u001b[0m\u001b[0;34m=\u001b[0m\u001b[0mdat\u001b[0m\u001b[0;34m,\u001b[0m \u001b[0mmean\u001b[0m\u001b[0;34m=\u001b[0m\u001b[0mmeans\u001b[0m\u001b[0;34m[\u001b[0m\u001b[0mdim\u001b[0m\u001b[0;34m,\u001b[0m\u001b[0;34m:\u001b[0m\u001b[0;34m]\u001b[0m\u001b[0;34m,\u001b[0m \u001b[0mcov\u001b[0m\u001b[0;34m=\u001b[0m\u001b[0mcovars\u001b[0m\u001b[0;34m[\u001b[0m\u001b[0mdim\u001b[0m\u001b[0;34m,\u001b[0m\u001b[0;34m:\u001b[0m\u001b[0;34m,\u001b[0m\u001b[0;34m:\u001b[0m\u001b[0;34m]\u001b[0m\u001b[0;34m)\u001b[0m\u001b[0;34m]\u001b[0m\u001b[0;34m)\u001b[0m\u001b[0;34m\u001b[0m\u001b[0;34m\u001b[0m\u001b[0m\n\u001b[0m\u001b[1;32m     22\u001b[0m         \u001b[0mp_class_given_data\u001b[0m\u001b[0;34m=\u001b[0m\u001b[0mp_data_given_class\u001b[0m\u001b[0;34m*\u001b[0m\u001b[0mp_class\u001b[0m\u001b[0;34m\u001b[0m\u001b[0;34m\u001b[0m\u001b[0m\n\u001b[1;32m     23\u001b[0m \u001b[0;34m\u001b[0m\u001b[0m\n",
      "\u001b[0;32m/Library/Frameworks/Python.framework/Versions/3.9/lib/python3.9/site-packages/scipy/stats/_multivariate.py\u001b[0m in \u001b[0;36mpdf\u001b[0;34m(self, x, mean, cov, allow_singular)\u001b[0m\n\u001b[1;32m    525\u001b[0m         \u001b[0mdim\u001b[0m\u001b[0;34m,\u001b[0m \u001b[0mmean\u001b[0m\u001b[0;34m,\u001b[0m \u001b[0mcov\u001b[0m \u001b[0;34m=\u001b[0m \u001b[0mself\u001b[0m\u001b[0;34m.\u001b[0m\u001b[0m_process_parameters\u001b[0m\u001b[0;34m(\u001b[0m\u001b[0;32mNone\u001b[0m\u001b[0;34m,\u001b[0m \u001b[0mmean\u001b[0m\u001b[0;34m,\u001b[0m \u001b[0mcov\u001b[0m\u001b[0;34m)\u001b[0m\u001b[0;34m\u001b[0m\u001b[0;34m\u001b[0m\u001b[0m\n\u001b[1;32m    526\u001b[0m         \u001b[0mx\u001b[0m \u001b[0;34m=\u001b[0m \u001b[0mself\u001b[0m\u001b[0;34m.\u001b[0m\u001b[0m_process_quantiles\u001b[0m\u001b[0;34m(\u001b[0m\u001b[0mx\u001b[0m\u001b[0;34m,\u001b[0m \u001b[0mdim\u001b[0m\u001b[0;34m)\u001b[0m\u001b[0;34m\u001b[0m\u001b[0;34m\u001b[0m\u001b[0m\n\u001b[0;32m--> 527\u001b[0;31m         \u001b[0mpsd\u001b[0m \u001b[0;34m=\u001b[0m \u001b[0m_PSD\u001b[0m\u001b[0;34m(\u001b[0m\u001b[0mcov\u001b[0m\u001b[0;34m,\u001b[0m \u001b[0mallow_singular\u001b[0m\u001b[0;34m=\u001b[0m\u001b[0mallow_singular\u001b[0m\u001b[0;34m)\u001b[0m\u001b[0;34m\u001b[0m\u001b[0;34m\u001b[0m\u001b[0m\n\u001b[0m\u001b[1;32m    528\u001b[0m         \u001b[0mout\u001b[0m \u001b[0;34m=\u001b[0m \u001b[0mnp\u001b[0m\u001b[0;34m.\u001b[0m\u001b[0mexp\u001b[0m\u001b[0;34m(\u001b[0m\u001b[0mself\u001b[0m\u001b[0;34m.\u001b[0m\u001b[0m_logpdf\u001b[0m\u001b[0;34m(\u001b[0m\u001b[0mx\u001b[0m\u001b[0;34m,\u001b[0m \u001b[0mmean\u001b[0m\u001b[0;34m,\u001b[0m \u001b[0mpsd\u001b[0m\u001b[0;34m.\u001b[0m\u001b[0mU\u001b[0m\u001b[0;34m,\u001b[0m \u001b[0mpsd\u001b[0m\u001b[0;34m.\u001b[0m\u001b[0mlog_pdet\u001b[0m\u001b[0;34m,\u001b[0m \u001b[0mpsd\u001b[0m\u001b[0;34m.\u001b[0m\u001b[0mrank\u001b[0m\u001b[0;34m)\u001b[0m\u001b[0;34m)\u001b[0m\u001b[0;34m\u001b[0m\u001b[0;34m\u001b[0m\u001b[0m\n\u001b[1;32m    529\u001b[0m         \u001b[0;32mreturn\u001b[0m \u001b[0m_squeeze_output\u001b[0m\u001b[0;34m(\u001b[0m\u001b[0mout\u001b[0m\u001b[0;34m)\u001b[0m\u001b[0;34m\u001b[0m\u001b[0;34m\u001b[0m\u001b[0m\n",
      "\u001b[0;32m/Library/Frameworks/Python.framework/Versions/3.9/lib/python3.9/site-packages/scipy/stats/_multivariate.py\u001b[0m in \u001b[0;36m__init__\u001b[0;34m(self, M, cond, rcond, lower, check_finite, allow_singular)\u001b[0m\n\u001b[1;32m    165\u001b[0m         \u001b[0md\u001b[0m \u001b[0;34m=\u001b[0m \u001b[0ms\u001b[0m\u001b[0;34m[\u001b[0m\u001b[0ms\u001b[0m \u001b[0;34m>\u001b[0m \u001b[0meps\u001b[0m\u001b[0;34m]\u001b[0m\u001b[0;34m\u001b[0m\u001b[0;34m\u001b[0m\u001b[0m\n\u001b[1;32m    166\u001b[0m         \u001b[0;32mif\u001b[0m \u001b[0mlen\u001b[0m\u001b[0;34m(\u001b[0m\u001b[0md\u001b[0m\u001b[0;34m)\u001b[0m \u001b[0;34m<\u001b[0m \u001b[0mlen\u001b[0m\u001b[0;34m(\u001b[0m\u001b[0ms\u001b[0m\u001b[0;34m)\u001b[0m \u001b[0;32mand\u001b[0m \u001b[0;32mnot\u001b[0m \u001b[0mallow_singular\u001b[0m\u001b[0;34m:\u001b[0m\u001b[0;34m\u001b[0m\u001b[0;34m\u001b[0m\u001b[0m\n\u001b[0;32m--> 167\u001b[0;31m             \u001b[0;32mraise\u001b[0m \u001b[0mnp\u001b[0m\u001b[0;34m.\u001b[0m\u001b[0mlinalg\u001b[0m\u001b[0;34m.\u001b[0m\u001b[0mLinAlgError\u001b[0m\u001b[0;34m(\u001b[0m\u001b[0;34m'singular matrix'\u001b[0m\u001b[0;34m)\u001b[0m\u001b[0;34m\u001b[0m\u001b[0;34m\u001b[0m\u001b[0m\n\u001b[0m\u001b[1;32m    168\u001b[0m         \u001b[0ms_pinv\u001b[0m \u001b[0;34m=\u001b[0m \u001b[0m_pinv_1d\u001b[0m\u001b[0;34m(\u001b[0m\u001b[0ms\u001b[0m\u001b[0;34m,\u001b[0m \u001b[0meps\u001b[0m\u001b[0;34m)\u001b[0m\u001b[0;34m\u001b[0m\u001b[0;34m\u001b[0m\u001b[0m\n\u001b[1;32m    169\u001b[0m         \u001b[0mU\u001b[0m \u001b[0;34m=\u001b[0m \u001b[0mnp\u001b[0m\u001b[0;34m.\u001b[0m\u001b[0mmultiply\u001b[0m\u001b[0;34m(\u001b[0m\u001b[0mu\u001b[0m\u001b[0;34m,\u001b[0m \u001b[0mnp\u001b[0m\u001b[0;34m.\u001b[0m\u001b[0msqrt\u001b[0m\u001b[0;34m(\u001b[0m\u001b[0ms_pinv\u001b[0m\u001b[0;34m)\u001b[0m\u001b[0;34m)\u001b[0m\u001b[0;34m\u001b[0m\u001b[0;34m\u001b[0m\u001b[0m\n",
      "\u001b[0;31mLinAlgError\u001b[0m: singular matrix"
     ]
    }
   ],
   "source": [
    "test_df_aubio_features = df_aubio_features[['notes', 'tempo', 'energy', 'pitch', 'onset']]\n",
    "\n",
    "ap2, am2, ac2,ad2, apc2 = EM(test_df_aubio_features,2, 5)\n",
    "ap4, am4, ac4,ad4, apc4 = EM(test_df_aubio_features,4, 5)\n",
    "ap6, am6, ac6,ad6, apc6  = EM(test_df_aubio_features,6, 5)\n",
    "ap8, am8, ac8,ad8, apc8  = EM(test_df_aubio_features,8, 5)\n",
    "ap10, am10, ac10,ad10, apc10  = EM(test_df_aubio_features,10, 5)"
   ]
  },
  {
   "cell_type": "markdown",
   "metadata": {},
   "source": [
    "## Decide which k value is the best to use"
   ]
  },
  {
   "cell_type": "code",
   "execution_count": null,
   "metadata": {},
   "outputs": [],
   "source": [
    "plt.plot([2,4,6,8, 10], [d2,d4,d6,d8, d10], label = \"Spotify Audio Features\")\n",
    "plt.plot([2,4,6,8, 10], [ad2,ad4,ad6,ad8, ad10], label = \"Aubio Audio Features\")\n",
    "plt.title('Average Distance to Centroid');\n",
    "plt.xlabel(\"K\")\n",
    "plt.xlabel(\"Distance\")"
   ]
  },
  {
   "cell_type": "markdown",
   "metadata": {},
   "source": [
    "Using 6 Audio features, it appers the k=4 is the best k value to use."
   ]
  },
  {
   "cell_type": "markdown",
   "metadata": {},
   "source": [
    "## Create clusters for Spotify GMM"
   ]
  },
  {
   "cell_type": "code",
   "execution_count": null,
   "metadata": {},
   "outputs": [],
   "source": [
    "spotify_clusters = []\n",
    "for pt in pc4:\n",
    "    max_prob = max(pt)\n",
    "    spotify_clusters.append(np.where(pt ==  max_prob)[0][0])"
   ]
  },
  {
   "cell_type": "markdown",
   "metadata": {},
   "source": [
    "## Create clusters for Aubio GMM"
   ]
  },
  {
   "cell_type": "code",
   "execution_count": null,
   "metadata": {},
   "outputs": [],
   "source": [
    "aubio_clusters = []\n",
    "for apt in apc4:\n",
    "    max_prob = max(apt)\n",
    "    aubio_clusters.append(np.where(apt ==  max_prob)[0][0])"
   ]
  },
  {
   "cell_type": "markdown",
   "metadata": {},
   "source": [
    "# Use PCA to find the two most related dimensions for our plot - Spotify"
   ]
  },
  {
   "cell_type": "code",
   "execution_count": null,
   "metadata": {},
   "outputs": [],
   "source": [
    "# PCA to find the two most related dimensions to plot\n",
    "M = pd.DataFrame(test_df).values\n",
    "MT = np.transpose(M)\n",
    "MTM = np.matmul(MT, M)\n",
    "\n",
    "# Decomposition of given data matrix\n",
    "evals, evecs = np.linalg.eig(MTM)\n",
    "np.sum(evecs[:,0]**2)\n",
    "evals_sorted =  np.flip(np.sort(evals),0)\n",
    "\n",
    "# Get the sorted list of indices for the eigenvalues\n",
    "idx_sorted = [list(evals).index(ee) for ee in evals_sorted]\n",
    "E = evecs[:,idx_sorted]\n",
    "\n",
    "# Rotated M by E\n",
    "spotify_ME2 = np.matmul(M, E[:,:2])"
   ]
  },
  {
   "cell_type": "code",
   "execution_count": null,
   "metadata": {},
   "outputs": [],
   "source": [
    "s_x = []\n",
    "s_y = []\n",
    "for i in range(spotify_ME2.shape[0]):\n",
    "    s_x.append(spotify_ME2[i,0])\n",
    "    s_y.append(spotify_ME2[i,1]) "
   ]
  },
  {
   "cell_type": "markdown",
   "metadata": {},
   "source": [
    "# Use PCA to find the two most related dimensions for our plot - Aubio"
   ]
  },
  {
   "cell_type": "code",
   "execution_count": null,
   "metadata": {},
   "outputs": [],
   "source": [
    "# PCA to find the two most related dimensions to plot\n",
    "M = pd.DataFrame(test_df_aubio_features).values\n",
    "MT = np.transpose(M)\n",
    "MTM = np.matmul(MT, M)\n",
    "\n",
    "# Decomposition of given data matrix\n",
    "evals, evecs = np.linalg.eig(MTM)\n",
    "np.sum(evecs[:,0]**2)\n",
    "evals_sorted =  np.flip(np.sort(evals),0)\n",
    "\n",
    "# Get the sorted list of indices for the eigenvalues\n",
    "idx_sorted = [list(evals).index(ee) for ee in evals_sorted]\n",
    "E = evecs[:,idx_sorted]\n",
    "\n",
    "#Rotated M by E\n",
    "aubio_ME2 = np.matmul(M, E[:,:2])"
   ]
  },
  {
   "cell_type": "code",
   "execution_count": null,
   "metadata": {},
   "outputs": [],
   "source": [
    "a_x = []\n",
    "a_y = []\n",
    "for i in range(aubio_ME2.shape[0]):\n",
    "    a_x.append(aubio_ME2[i,0])\n",
    "    a_y.append(aubio_ME2[i,1]) "
   ]
  },
  {
   "cell_type": "markdown",
   "metadata": {},
   "source": [
    "## Plot our clusters"
   ]
  },
  {
   "cell_type": "code",
   "execution_count": null,
   "metadata": {},
   "outputs": [],
   "source": [
    "# Plot the clusters using the two most related dimensions\n",
    "fig, ax = plt.subplots(figsize=(15,10))\n",
    "ax.set_title('k=4 Spotify GMM ')\n",
    "ax.scatter(s_x,s_y, c=spotify_clusters)\n",
    "ax.set_xlabel('Primary Eigen Vector')\n",
    "ax.set_ylabel('Second largest Eigen Vector')\n",
    "\n",
    "\n",
    "fig, ax = plt.subplots(figsize=(15,10))\n",
    "ax.set_title('k=4 Aubio GMM')\n",
    "ax.scatter(a_x,a_y, c=aubio_clusters)\n",
    "ax.set_xlabel('Primary Eigen Vector')\n",
    "ax.set_ylabel('Second largest Eigen Vector')"
   ]
  },
  {
   "cell_type": "markdown",
   "metadata": {},
   "source": [
    "# Find the most common genres from each cluster accoridng to Spotify"
   ]
  },
  {
   "cell_type": "code",
   "execution_count": null,
   "metadata": {},
   "outputs": [],
   "source": [
    "# Print all the songs in the first cluster\n",
    "index = 0\n",
    "c1_genre = []\n",
    "c2_genre = []\n",
    "c3_genre = []\n",
    "c4_genre = []\n",
    "for song in spotify_clusters:\n",
    "    if(song == 0):\n",
    "        c1_genre.append(genres[index])\n",
    "    if(song == 1):\n",
    "        c2_genre.append(genres[index])\n",
    "    if(song == 2):\n",
    "        c3_genre.append(genres[index])\n",
    "    if(song == 3):\n",
    "        c4_genre.append(genres[index])\n",
    "    index = index+1\n"
   ]
  },
  {
   "cell_type": "code",
   "execution_count": null,
   "metadata": {},
   "outputs": [],
   "source": [
    "c1_flat = [x for sublist in c1_genre for x in sublist]\n",
    "c2_flat = [x for sublist in c2_genre for x in sublist]\n",
    "c3_flat = [x for sublist in c3_genre for x in sublist]\n",
    "c4_flat = [x for sublist in c4_genre for x in sublist]"
   ]
  },
  {
   "cell_type": "code",
   "execution_count": null,
   "metadata": {},
   "outputs": [],
   "source": [
    "def get_popular_genres(n, data):\n",
    "    \n",
    "    df=pd.DataFrame(data = {'Number': data})\n",
    "    df1 = pd.DataFrame(df['Number'].value_counts())\n",
    "    return  df1['Number'].index[:n,]\n",
    "\n",
    "print(\"Cluster 1 most common genres: \",  get_popular_genres(4, c1_flat).values)\n",
    "print(\"Cluster 2 most common genres: \",  get_popular_genres(4, c2_flat).values)\n",
    "print(\"Cluster 3 most common genres: \",  get_popular_genres(4, c3_flat).values)\n",
    "print(\"Cluster 4 most common genres: \",  get_popular_genres(4, c4_flat).values)"
   ]
  },
  {
   "cell_type": "markdown",
   "metadata": {},
   "source": [
    "# Get the probabilty a new song belong to each cluster"
   ]
  },
  {
   "cell_type": "markdown",
   "metadata": {},
   "source": [
    "## Gather 10 new songs"
   ]
  },
  {
   "cell_type": "code",
   "execution_count": null,
   "metadata": {},
   "outputs": [],
   "source": [
    "artist_name = []\n",
    "track_name = []\n",
    "popularity = []\n",
    "track_id = []\n",
    "genres = []\n",
    "\n",
    "# Loading in 10 different tracks from 2021 with Spotipy\n",
    "for i in range(10):\n",
    "    track_results = sp.search(q='year:2020', type='track', limit=1,offset=i)\n",
    "    for i, t in enumerate(track_results['tracks']['items']):\n",
    "        #populating lists we will use for DF later\n",
    "        artist_name.append(t['artists'][0]['name'])\n",
    "        track_name.append(t['name'])\n",
    "        track_id.append(t['id'])\n",
    "        popularity.append(t['popularity'])\n",
    "        artist = sp.artist(t[\"artists\"][0][\"external_urls\"][\"spotify\"])\n",
    "        genres.append(artist[\"genres\"]) "
   ]
  },
  {
   "cell_type": "code",
   "execution_count": null,
   "metadata": {},
   "outputs": [],
   "source": [
    "# Storing data in dataframe\n",
    "df_new_tracks = pd.DataFrame({'artist_name':artist_name,'track_name':track_name,'track_id':track_id,'popularity':popularity})"
   ]
  },
  {
   "cell_type": "code",
   "execution_count": null,
   "metadata": {},
   "outputs": [],
   "source": [
    "df_new_tracks.head()"
   ]
  },
  {
   "cell_type": "code",
   "execution_count": null,
   "metadata": {},
   "outputs": [],
   "source": [
    "rows = []\n",
    "batchsize = 10\n",
    "\n",
    "# Create list of audio features for each song\n",
    "for i in range(0,len(df_new_tracks['track_id']),batchsize):\n",
    "    batch = df_tracks['track_id'][i:i+batchsize]\n",
    "    feature_results = sp.audio_features(batch)\n",
    "    for i, t in enumerate(feature_results):\n",
    "        if t != None:\n",
    "            rows.append(t)"
   ]
  },
  {
   "cell_type": "markdown",
   "metadata": {},
   "source": [
    "## Extract Audio Featureds"
   ]
  },
  {
   "cell_type": "code",
   "execution_count": null,
   "metadata": {},
   "outputs": [],
   "source": [
    "# Storing audio feature data of each song in a dataframe\n",
    "df_new_audio_features = pd.DataFrame.from_dict(rows,orient='columns')\n"
   ]
  },
  {
   "cell_type": "code",
   "execution_count": null,
   "metadata": {},
   "outputs": [],
   "source": [
    "new_test_df = df_new_audio_features[['acousticness', 'energy', 'tempo',  'liveness', 'valence']]\n",
    "new_testt_df.head()"
   ]
  },
  {
   "cell_type": "markdown",
   "metadata": {},
   "source": [
    "## Get the probability a song belongs to each cluster"
   ]
  },
  {
   "cell_type": "code",
   "execution_count": null,
   "metadata": {},
   "outputs": [],
   "source": [
    "# Method to compute the probabilty a new song belongs to each genre (cluster)\n",
    "def p_class_given_data(song, k, means, covars, p_class):\n",
    "    p_song_given_cluster = []\n",
    "    p_cluster_given_song = []\n",
    "    for cluster in range(k):\n",
    "        p_song_given_cluster.append( stats.multivariate_normal.pdf(x=song, mean=means[cluster], cov=covars[cluster]))\n",
    "        p_cluster_given_song.append( p_song_given_cluster[cluster] * p_class[cluster] )\n",
    "    \n",
    "    summ = sum(p_cluster_given_song)\n",
    "    \n",
    "    for cluster in range(k):\n",
    "        p_cluster_given_song[cluster] = p_cluster_given_song[cluster] / summ\n",
    "    \n",
    "    return  p_cluster_given_song"
   ]
  },
  {
   "cell_type": "code",
   "execution_count": null,
   "metadata": {},
   "outputs": [],
   "source": [
    "for index in range(10):\n",
    "    song = list(new_test_df.iloc[index].values)\n",
    "    probs = p_class_given_data(song, 4, m4, c4, p4)\n",
    "\n",
    "\n",
    "    print(\"probability of belonging to cluster 0 with genres\", get_popular_genres(4, c1_flat).values, \":\", probs[0].round(4))\n",
    "    print(\"probability of belonging to cluster 1 with genres\", get_popular_genres(4, c2_flat).values, \":\", probs[1].round(4))\n",
    "    print(\"probability of belonging to cluster 2 with genres\", get_popular_genres(4, c3_flat).values, \":\", probs[2].round(4))\n",
    "    print(\"probability of belonging to cluster 3 with genres\", get_popular_genres(4, c4_flat).values, \":\", probs[3].round(4))\n",
    "    print(\"\")\n",
    "    \n",
    "    \n",
    "    \n",
    "    #todo \n",
    "#     probs = p_class_given_data(song, 4, am4, ac4, ap4)\n",
    "# see if the probabilities are the same\n",
    "\n",
    "    "
   ]
  },
  {
   "cell_type": "code",
   "execution_count": null,
   "metadata": {},
   "outputs": [],
   "source": []
  }
 ],
 "metadata": {
  "kernelspec": {
   "display_name": "Python 3",
   "language": "python",
   "name": "python3"
  },
  "language_info": {
   "codemirror_mode": {
    "name": "ipython",
    "version": 3
   },
   "file_extension": ".py",
   "mimetype": "text/x-python",
   "name": "python",
   "nbconvert_exporter": "python",
   "pygments_lexer": "ipython3",
   "version": "3.9.1"
  }
 },
 "nbformat": 4,
 "nbformat_minor": 2
}
