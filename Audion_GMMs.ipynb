{
 "cells": [
  {
   "cell_type": "code",
   "execution_count": 178,
   "metadata": {},
   "outputs": [],
   "source": [
    "import spotipy\n",
    "from spotipy.oauth2 import SpotifyClientCredentials\n",
    "import pandas as pd\n",
    "import numpy as np\n",
    "import matplotlib.pyplot as plt\n",
    "import scipy.stats as stats\n",
    "import statsmodels.api as sm\n",
    "import statistics\n",
    "from statistics import mode"
   ]
  },
  {
   "cell_type": "markdown",
   "metadata": {},
   "source": [
    "# Extract Data\n",
    "***\n",
    "## Read in Songs from Spotify API\n"
   ]
  },
  {
   "cell_type": "code",
   "execution_count": 154,
   "metadata": {},
   "outputs": [],
   "source": [
    "#connecting to spotify API using Spotipy\n",
    "cid =\"12b051049eb14a05ac3dd252770b6bd3\" \n",
    "secret = \"8844a8e5f63f4fa3998ba69811b2e005\"\n",
    "\n",
    "client_credentials_manager = SpotifyClientCredentials(client_id=cid, client_secret=secret)\n",
    "sp = spotipy.Spotify(client_credentials_manager=client_credentials_manager)"
   ]
  },
  {
   "cell_type": "code",
   "execution_count": 162,
   "metadata": {},
   "outputs": [],
   "source": [
    "artist_name = []\n",
    "track_name = []\n",
    "popularity = []\n",
    "track_id = []\n",
    "genres = []\n",
    "\n",
    "#loading in 1000 different tracks from 2020 with Spotipy\n",
    "for i in range(0,1000,10):\n",
    "    track_results = sp.search(q='year:2010', type='track', limit=10,offset=i)\n",
    "    for i, t in enumerate(track_results['tracks']['items']):\n",
    "        #populating lists we will use for DF later\n",
    "        artist_name.append(t['artists'][0]['name'])\n",
    "        track_name.append(t['name'])\n",
    "        track_id.append(t['id'])\n",
    "        popularity.append(t['popularity'])\n",
    "        artist = sp.artist(t[\"artists\"][0][\"external_urls\"][\"spotify\"])\n",
    "        genres.append(artist[\"genres\"]) \n",
    "\n",
    "        "
   ]
  },
  {
   "cell_type": "code",
   "execution_count": 165,
   "metadata": {},
   "outputs": [],
   "source": [
    "\n",
    "#storing data in dataframe\n",
    "df_tracks = pd.DataFrame({'artist_name':artist_name,'track_name':track_name,'track_id':track_id,'popularity':popularity})"
   ]
  },
  {
   "cell_type": "code",
   "execution_count": null,
   "metadata": {},
   "outputs": [],
   "source": [
    "## Extract Audio Features"
   ]
  },
  {
   "cell_type": "code",
   "execution_count": null,
   "metadata": {},
   "outputs": [],
   "source": [
    "rows = []\n",
    "batchsize = 100\n",
    "\n",
    "#Create list of audio features for each song\n",
    "for i in range(0,len(df_tracks['track_id']),batchsize):\n",
    "    batch = df_tracks['track_id'][i:i+batchsize]\n",
    "    feature_results = sp.audio_features(batch)\n",
    "    for i, t in enumerate(feature_results):\n",
    "        if t != None:\n",
    "            rows.append(t)\n"
   ]
  },
  {
   "cell_type": "code",
   "execution_count": 6,
   "metadata": {},
   "outputs": [
    {
     "name": "stdout",
     "output_type": "stream",
     "text": [
      "Shape of the dataset: (1000, 18)\n"
     ]
    },
    {
     "data": {
      "text/html": [
       "<div>\n",
       "<style scoped>\n",
       "    .dataframe tbody tr th:only-of-type {\n",
       "        vertical-align: middle;\n",
       "    }\n",
       "\n",
       "    .dataframe tbody tr th {\n",
       "        vertical-align: top;\n",
       "    }\n",
       "\n",
       "    .dataframe thead th {\n",
       "        text-align: right;\n",
       "    }\n",
       "</style>\n",
       "<table border=\"1\" class=\"dataframe\">\n",
       "  <thead>\n",
       "    <tr style=\"text-align: right;\">\n",
       "      <th></th>\n",
       "      <th>acousticness</th>\n",
       "      <th>analysis_url</th>\n",
       "      <th>danceability</th>\n",
       "      <th>duration_ms</th>\n",
       "      <th>energy</th>\n",
       "      <th>id</th>\n",
       "      <th>instrumentalness</th>\n",
       "      <th>key</th>\n",
       "      <th>liveness</th>\n",
       "      <th>loudness</th>\n",
       "      <th>mode</th>\n",
       "      <th>speechiness</th>\n",
       "      <th>tempo</th>\n",
       "      <th>time_signature</th>\n",
       "      <th>track_href</th>\n",
       "      <th>type</th>\n",
       "      <th>uri</th>\n",
       "      <th>valence</th>\n",
       "    </tr>\n",
       "  </thead>\n",
       "  <tbody>\n",
       "    <tr>\n",
       "      <th>0</th>\n",
       "      <td>0.1120</td>\n",
       "      <td>https://api.spotify.com/v1/audio-analysis/6tDD...</td>\n",
       "      <td>0.653</td>\n",
       "      <td>160191</td>\n",
       "      <td>0.524</td>\n",
       "      <td>6tDDoYIxWvMLTdKpjFkc1B</td>\n",
       "      <td>0.000000</td>\n",
       "      <td>11</td>\n",
       "      <td>0.2030</td>\n",
       "      <td>-9.016</td>\n",
       "      <td>0</td>\n",
       "      <td>0.0502</td>\n",
       "      <td>83.970</td>\n",
       "      <td>4</td>\n",
       "      <td>https://api.spotify.com/v1/tracks/6tDDoYIxWvML...</td>\n",
       "      <td>audio_features</td>\n",
       "      <td>spotify:track:6tDDoYIxWvMLTdKpjFkc1B</td>\n",
       "      <td>0.553</td>\n",
       "    </tr>\n",
       "    <tr>\n",
       "      <th>1</th>\n",
       "      <td>0.1650</td>\n",
       "      <td>https://api.spotify.com/v1/audio-analysis/6s0Q...</td>\n",
       "      <td>0.699</td>\n",
       "      <td>83853</td>\n",
       "      <td>0.558</td>\n",
       "      <td>6s0QJ4tfTOkkkOMQz8HCrg</td>\n",
       "      <td>0.883000</td>\n",
       "      <td>9</td>\n",
       "      <td>0.0932</td>\n",
       "      <td>-14.713</td>\n",
       "      <td>1</td>\n",
       "      <td>0.0541</td>\n",
       "      <td>99.996</td>\n",
       "      <td>4</td>\n",
       "      <td>https://api.spotify.com/v1/tracks/6s0QJ4tfTOkk...</td>\n",
       "      <td>audio_features</td>\n",
       "      <td>spotify:track:6s0QJ4tfTOkkkOMQz8HCrg</td>\n",
       "      <td>0.398</td>\n",
       "    </tr>\n",
       "    <tr>\n",
       "      <th>2</th>\n",
       "      <td>0.4990</td>\n",
       "      <td>https://api.spotify.com/v1/audio-analysis/3YJJ...</td>\n",
       "      <td>0.436</td>\n",
       "      <td>279204</td>\n",
       "      <td>0.655</td>\n",
       "      <td>3YJJjQPAbDT7mGpX3WtQ9A</td>\n",
       "      <td>0.000008</td>\n",
       "      <td>1</td>\n",
       "      <td>0.6880</td>\n",
       "      <td>-8.370</td>\n",
       "      <td>0</td>\n",
       "      <td>0.0583</td>\n",
       "      <td>121.002</td>\n",
       "      <td>4</td>\n",
       "      <td>https://api.spotify.com/v1/tracks/3YJJjQPAbDT7...</td>\n",
       "      <td>audio_features</td>\n",
       "      <td>spotify:track:3YJJjQPAbDT7mGpX3WtQ9A</td>\n",
       "      <td>0.412</td>\n",
       "    </tr>\n",
       "    <tr>\n",
       "      <th>3</th>\n",
       "      <td>0.0299</td>\n",
       "      <td>https://api.spotify.com/v1/audio-analysis/2spP...</td>\n",
       "      <td>0.642</td>\n",
       "      <td>34750</td>\n",
       "      <td>0.749</td>\n",
       "      <td>2spPLfhb8c7rPxz28IdeXR</td>\n",
       "      <td>0.000000</td>\n",
       "      <td>6</td>\n",
       "      <td>0.2540</td>\n",
       "      <td>-7.060</td>\n",
       "      <td>0</td>\n",
       "      <td>0.2890</td>\n",
       "      <td>81.862</td>\n",
       "      <td>1</td>\n",
       "      <td>https://api.spotify.com/v1/tracks/2spPLfhb8c7r...</td>\n",
       "      <td>audio_features</td>\n",
       "      <td>spotify:track:2spPLfhb8c7rPxz28IdeXR</td>\n",
       "      <td>0.561</td>\n",
       "    </tr>\n",
       "    <tr>\n",
       "      <th>4</th>\n",
       "      <td>0.0212</td>\n",
       "      <td>https://api.spotify.com/v1/audio-analysis/5QO7...</td>\n",
       "      <td>0.680</td>\n",
       "      <td>215627</td>\n",
       "      <td>0.826</td>\n",
       "      <td>5QO79kh1waicV47BqGRL3g</td>\n",
       "      <td>0.000012</td>\n",
       "      <td>0</td>\n",
       "      <td>0.5430</td>\n",
       "      <td>-5.487</td>\n",
       "      <td>1</td>\n",
       "      <td>0.0309</td>\n",
       "      <td>118.051</td>\n",
       "      <td>4</td>\n",
       "      <td>https://api.spotify.com/v1/tracks/5QO79kh1waic...</td>\n",
       "      <td>audio_features</td>\n",
       "      <td>spotify:track:5QO79kh1waicV47BqGRL3g</td>\n",
       "      <td>0.644</td>\n",
       "    </tr>\n",
       "  </tbody>\n",
       "</table>\n",
       "</div>"
      ],
      "text/plain": [
       "   acousticness                                       analysis_url  \\\n",
       "0        0.1120  https://api.spotify.com/v1/audio-analysis/6tDD...   \n",
       "1        0.1650  https://api.spotify.com/v1/audio-analysis/6s0Q...   \n",
       "2        0.4990  https://api.spotify.com/v1/audio-analysis/3YJJ...   \n",
       "3        0.0299  https://api.spotify.com/v1/audio-analysis/2spP...   \n",
       "4        0.0212  https://api.spotify.com/v1/audio-analysis/5QO7...   \n",
       "\n",
       "   danceability  duration_ms  energy                      id  \\\n",
       "0         0.653       160191   0.524  6tDDoYIxWvMLTdKpjFkc1B   \n",
       "1         0.699        83853   0.558  6s0QJ4tfTOkkkOMQz8HCrg   \n",
       "2         0.436       279204   0.655  3YJJjQPAbDT7mGpX3WtQ9A   \n",
       "3         0.642        34750   0.749  2spPLfhb8c7rPxz28IdeXR   \n",
       "4         0.680       215627   0.826  5QO79kh1waicV47BqGRL3g   \n",
       "\n",
       "   instrumentalness  key  liveness  loudness  mode  speechiness    tempo  \\\n",
       "0          0.000000   11    0.2030    -9.016     0       0.0502   83.970   \n",
       "1          0.883000    9    0.0932   -14.713     1       0.0541   99.996   \n",
       "2          0.000008    1    0.6880    -8.370     0       0.0583  121.002   \n",
       "3          0.000000    6    0.2540    -7.060     0       0.2890   81.862   \n",
       "4          0.000012    0    0.5430    -5.487     1       0.0309  118.051   \n",
       "\n",
       "   time_signature                                         track_href  \\\n",
       "0               4  https://api.spotify.com/v1/tracks/6tDDoYIxWvML...   \n",
       "1               4  https://api.spotify.com/v1/tracks/6s0QJ4tfTOkk...   \n",
       "2               4  https://api.spotify.com/v1/tracks/3YJJjQPAbDT7...   \n",
       "3               1  https://api.spotify.com/v1/tracks/2spPLfhb8c7r...   \n",
       "4               4  https://api.spotify.com/v1/tracks/5QO79kh1waic...   \n",
       "\n",
       "             type                                   uri  valence  \n",
       "0  audio_features  spotify:track:6tDDoYIxWvMLTdKpjFkc1B    0.553  \n",
       "1  audio_features  spotify:track:6s0QJ4tfTOkkkOMQz8HCrg    0.398  \n",
       "2  audio_features  spotify:track:3YJJjQPAbDT7mGpX3WtQ9A    0.412  \n",
       "3  audio_features  spotify:track:2spPLfhb8c7rPxz28IdeXR    0.561  \n",
       "4  audio_features  spotify:track:5QO79kh1waicV47BqGRL3g    0.644  "
      ]
     },
     "execution_count": 6,
     "metadata": {},
     "output_type": "execute_result"
    }
   ],
   "source": [
    "# Storing audio feature data of each song in a dataframe\n",
    "df_audio_features = pd.DataFrame.from_dict(rows,orient='columns')\n",
    "print(\"Shape of the dataset:\", df_audio_features.shape)\n",
    "df_audio_features.head()"
   ]
  },
  {
   "cell_type": "markdown",
   "metadata": {},
   "source": [
    "# Create GMM "
   ]
  },
  {
   "cell_type": "code",
   "execution_count": 107,
   "metadata": {},
   "outputs": [],
   "source": [
    "# EM algo to create GMMs\n",
    "def EM(dat, k, n):\n",
    "    \n",
    "    p_class=np.zeros(k)\n",
    "    means=np.zeros((k,n))\n",
    "    covars=np.zeros((k,n,n))\n",
    "    mean_dist=np.array(0)\n",
    "    p_data_given_class=np.zeros((len(dat),k))\n",
    "    \n",
    "    #initializations\n",
    "    init_idx=np.random.choice(range(len(dat)), size=k, replace=False)\n",
    "    \n",
    "    for dim in range(k):\n",
    "        covars[dim,:,:]=np.cov(np.transpose(dat))\n",
    "        means[dim,:]=dat.iloc[init_idx[dim]]\n",
    "        p_class[dim]=1/k\n",
    "    \n",
    "    for step in range(50):  \n",
    "        #Bayes stuff: pdfs then pdf*mixtures, then normalize\n",
    "        for dim in range(k):\n",
    "            p_data_given_class[:,dim]=  np.array([stats.multivariate_normal.pdf(x=dat, mean=means[dim], cov=covars[dim])])\n",
    "        p_class_given_data=p_data_given_class*p_class\n",
    "\n",
    "        sums=np.sum(p_class_given_data, axis=1)\n",
    "        for dim in range(k):\n",
    "            p_class_given_data[:,dim]=p_class_given_data[:,dim]*(1/sums)\n",
    "        n_class = np.sum(p_class_given_data, axis=0)\n",
    "        p_class=n_class/len(dat)\n",
    "\n",
    "        # mean and covar updates\n",
    "        for dim in range(k):\n",
    "            for f1 in range(n):\n",
    "                means[dim,f1]=np.sum(p_class_given_data[:,dim]*dat.iloc[:,f1])*(1/n_class[dim])\n",
    "                \n",
    "                for f2 in range(n):\n",
    "                    if (f1==f2):\n",
    "                        covars[dim,f1,f2]=np.sum(p_class_given_data[:,dim]*((dat.iloc[:,f1]-means[dim,f1])**2))*(1/n_class[dim])\n",
    "                    else:\n",
    "                        covars[dim,f1,f2]=np.sum(p_class_given_data[:,dim]*(dat.iloc[:,f1]-means[dim,f1])*(dat.iloc[:,f2]-means[dim,f2]))*(1/n_class[dim])   \n",
    "                                                                 \n",
    "    mean_dist=0\n",
    "    \n",
    "    for pt in range(len(dat)):\n",
    "        for dim in range(k):\n",
    "            #for each datum-mean pair, compute their prob-weighted distance apart\n",
    "            mean_dist+=np.sqrt(np.sum((means[dim,:]-np.array(dat.iloc[pt]))**2)*p_class_given_data[pt,dim])\n",
    "    mean_dist=mean_dist/(len(dat)*k)\n",
    "    return p_class, means, covars, mean_dist, p_class_given_data"
   ]
  },
  {
   "cell_type": "markdown",
   "metadata": {},
   "source": [
    "## Create GMM for k=2,4,6,8,10 clusters"
   ]
  },
  {
   "cell_type": "code",
   "execution_count": 87,
   "metadata": {},
   "outputs": [],
   "source": [
    "# Create the GMMs with various K values to find the best K value to use\n",
    "test_df = df_audio_features[['acousticness', 'energy', 'tempo', 'danceability', 'liveness', 'valence']]\n",
    "test_df\n",
    "p2, m2, c2,d2, pc2 = EM(test_df,2, 6)\n",
    "p4, m4, c4,d4, pc4 = EM(test_df,4, 6)\n",
    "p6, m6, c6,d6, pc6  = EM(test_df,6, 6)\n",
    "p8, m8, c8,d8, pc8  = EM(test_df,8, 6)\n",
    "p10, m10, c10,d10, pc10  = EM(test_df,10, 6)\n"
   ]
  },
  {
   "cell_type": "markdown",
   "metadata": {},
   "source": [
    "## Decide which k value is the best to use"
   ]
  },
  {
   "cell_type": "code",
   "execution_count": 88,
   "metadata": {},
   "outputs": [
    {
     "data": {
      "text/plain": [
       "Text(0.5, 0, 'Distance')"
      ]
     },
     "execution_count": 88,
     "metadata": {},
     "output_type": "execute_result"
    },
    {
     "data": {
      "image/png": "[encoded data removed]",
      "text/plain": [
       "<Figure size 432x288 with 1 Axes>"
      ]
     },
     "metadata": {
      "needs_background": "light"
     },
     "output_type": "display_data"
    }
   ],
   "source": [
    "plt.plot([2,4,6,8,10], [d2,d4,d6,d8,d10])\n",
    "plt.title('Average Distance to Centroid');\n",
    "plt.xlabel(\"K\")\n",
    "plt.xlabel(\"Distance\")"
   ]
  },
  {
   "cell_type": "markdown",
   "metadata": {},
   "source": [
    "Using 6 Audio features, it appers the k=4 is the best k value to use."
   ]
  },
  {
   "cell_type": "markdown",
   "metadata": {},
   "source": [
    "## Create clusters"
   ]
  },
  {
   "cell_type": "code",
   "execution_count": 89,
   "metadata": {},
   "outputs": [],
   "source": [
    "clusters = []\n",
    "for pt in pc4:\n",
    "    max_prob = max(pt)\n",
    "    clusters.append(np.where(pt ==  max_prob)[0][0])\n"
   ]
  },
  {
   "cell_type": "markdown",
   "metadata": {},
   "source": [
    "# Use PCA to find the two most related dimentasions for our plot"
   ]
  },
  {
   "cell_type": "code",
   "execution_count": 90,
   "metadata": {},
   "outputs": [],
   "source": [
    "#PCA to find the two most related dimensions to plot\n",
    "M = pd.DataFrame(test_df).values\n",
    "MT = np.transpose(M)\n",
    "MTM = np.matmul(MT, M)\n",
    "\n",
    "\n",
    "#Decomposition of given data matrix\n",
    "evals, evecs = np.linalg.eig(MTM)\n",
    "np.sum(evecs[:,0]**2)\n",
    "evals_sorted =  np.flip(np.sort(evals),0)\n",
    "\n",
    "# Get the sorted list of indices for the eigenvalues\n",
    "idx_sorted = [list(evals).index(ee) for ee in evals_sorted]\n",
    "\n",
    "E = evecs[:,idx_sorted]\n",
    "#Rotated M by E\n",
    "ME2 = np.matmul(M, E[:,:2])"
   ]
  },
  {
   "cell_type": "code",
   "execution_count": 91,
   "metadata": {},
   "outputs": [],
   "source": [
    "x = []\n",
    "y = []\n",
    "for i in range(ME2.shape[0]):\n",
    "    x.append(ME2[i,0])\n",
    "    y.append(ME2[i,1]) "
   ]
  },
  {
   "cell_type": "markdown",
   "metadata": {},
   "source": [
    "## Plot our clusters"
   ]
  },
  {
   "cell_type": "code",
   "execution_count": 93,
   "metadata": {},
   "outputs": [
    {
     "data": {
      "image/png": "[encoded data removed]",
      "text/plain": [
       "<Figure size 1080x720 with 1 Axes>"
      ]
     },
     "metadata": {
      "needs_background": "light"
     },
     "output_type": "display_data"
    }
   ],
   "source": [
    "# Plot the clusters using the two most related dimensions\n",
    "fig, ax = plt.subplots(figsize=(15,10))\n",
    "ax.set_title('k=4 GMM ')\n",
    "ax.scatter(x,y, c=clusters)\n",
    "ax.set_xlabel('Primary Eigen Vector')\n",
    "ax.set_ylabel('Second largest Eigen Vector')"
   ]
  },
  {
   "cell_type": "markdown",
   "metadata": {},
   "source": [
    "# Find the most common genres from each cluster accoridng to Spotify"
   ]
  },
  {
   "cell_type": "code",
   "execution_count": 229,
   "metadata": {},
   "outputs": [],
   "source": [
    "#print all the songs in the first cluster\n",
    "index = 0\n",
    "c1_genre = []\n",
    "c2_genre = []\n",
    "c3_genre = []\n",
    "c4_genre = []\n",
    "for song in clusters:\n",
    "    if(song == 0):\n",
    "        c1_genre.append(genres[index])\n",
    "    if(song == 1):\n",
    "        c2_genre.append(genres[index])\n",
    "    if(song == 2):\n",
    "        c3_genre.append(genres[index])\n",
    "    if(song == 3):\n",
    "        c4_genre.append(genres[index])\n",
    "    index = index+1\n"
   ]
  },
  {
   "cell_type": "code",
   "execution_count": 239,
   "metadata": {},
   "outputs": [],
   "source": [
    "c1_flat = [x for sublist in c1_genre for x in sublist]\n",
    "c2_flat = [x for sublist in c2_genre for x in sublist]\n",
    "c3_flat = [x for sublist in c3_genre for x in sublist]\n",
    "c4_flat = [x for sublist in c4_genre for x in sublist]\n"
   ]
  },
  {
   "cell_type": "code",
   "execution_count": 267,
   "metadata": {},
   "outputs": [
    {
     "name": "stdout",
     "output_type": "stream",
     "text": [
      "Cluster 1 most common genres:  ['pop' 'dance pop' 'post-teen pop' 'hip hop']\n",
      "Cluster 2 most common genres:  ['country rock' 'rock' 'art rock' 'classic rock']\n",
      "Cluster 3 most common genres:  ['pop' 'dance pop' 'post-teen pop' 'rap']\n",
      "Cluster 4 most common genres:  ['pop' 'dance pop' 'post-teen pop' 'pop rap']\n"
     ]
    }
   ],
   "source": [
    "def get_popular_genres(n, data):\n",
    "    \n",
    "    df=pd.DataFrame(data = {'Number': data})\n",
    "    df1 = pd.DataFrame(df['Number'].value_counts())\n",
    "    return  df1['Number'].index[:n,]\n",
    "\n",
    "print(\"Cluster 1 most common genres: \",  get_popular_genres(4, c1_flat).values)\n",
    "print(\"Cluster 2 most common genres: \",  get_popular_genres(4, c2_flat).values)\n",
    "print(\"Cluster 3 most common genres: \",  get_popular_genres(4, c3_flat).values)\n",
    "print(\"Cluster 4 most common genres: \",  get_popular_genres(4, c4_flat).values)\n",
    "\n"
   ]
  },
  {
   "cell_type": "markdown",
   "metadata": {},
   "source": [
    "# Get the probabilty a new song belong to each cluster"
   ]
  },
  {
   "cell_type": "markdown",
   "metadata": {},
   "source": [
    "## Gather 10 new songs"
   ]
  },
  {
   "cell_type": "code",
   "execution_count": 259,
   "metadata": {},
   "outputs": [],
   "source": [
    "artist_name = []\n",
    "track_name = []\n",
    "popularity = []\n",
    "track_id = []\n",
    "genres = []\n",
    "\n",
    "#loading in 10 different tracks from 2021 with Spotipy\n",
    "for i in range(10):\n",
    "    track_results = sp.search(q='year:2020', type='track', limit=1,offset=i)\n",
    "    for i, t in enumerate(track_results['tracks']['items']):\n",
    "        #populating lists we will use for DF later\n",
    "        artist_name.append(t['artists'][0]['name'])\n",
    "        track_name.append(t['name'])\n",
    "        track_id.append(t['id'])\n",
    "        popularity.append(t['popularity'])\n",
    "        artist = sp.artist(t[\"artists\"][0][\"external_urls\"][\"spotify\"])\n",
    "        genres.append(artist[\"genres\"]) "
   ]
  },
  {
   "cell_type": "code",
   "execution_count": 260,
   "metadata": {},
   "outputs": [],
   "source": [
    "#storing data in dataframe\n",
    "df_new_tracks = pd.DataFrame({'artist_name':artist_name,'track_name':track_name,'track_id':track_id,'popularity':popularity})"
   ]
  },
  {
   "cell_type": "code",
   "execution_count": 261,
   "metadata": {},
   "outputs": [
    {
     "data": {
      "text/html": [
       "<div>\n",
       "<style scoped>\n",
       "    .dataframe tbody tr th:only-of-type {\n",
       "        vertical-align: middle;\n",
       "    }\n",
       "\n",
       "    .dataframe tbody tr th {\n",
       "        vertical-align: top;\n",
       "    }\n",
       "\n",
       "    .dataframe thead th {\n",
       "        text-align: right;\n",
       "    }\n",
       "</style>\n",
       "<table border=\"1\" class=\"dataframe\">\n",
       "  <thead>\n",
       "    <tr style=\"text-align: right;\">\n",
       "      <th></th>\n",
       "      <th>artist_name</th>\n",
       "      <th>track_name</th>\n",
       "      <th>track_id</th>\n",
       "      <th>popularity</th>\n",
       "    </tr>\n",
       "  </thead>\n",
       "  <tbody>\n",
       "    <tr>\n",
       "      <th>0</th>\n",
       "      <td>Kali Uchis</td>\n",
       "      <td>telepatía</td>\n",
       "      <td>6tDDoYIxWvMLTdKpjFkc1B</td>\n",
       "      <td>95</td>\n",
       "    </tr>\n",
       "    <tr>\n",
       "      <th>1</th>\n",
       "      <td>Ema Spatula</td>\n",
       "      <td>Year 2020</td>\n",
       "      <td>6s0QJ4tfTOkkkOMQz8HCrg</td>\n",
       "      <td>17</td>\n",
       "    </tr>\n",
       "    <tr>\n",
       "      <th>2</th>\n",
       "      <td>SZA</td>\n",
       "      <td>Good Days</td>\n",
       "      <td>3YJJjQPAbDT7mGpX3WtQ9A</td>\n",
       "      <td>91</td>\n",
       "    </tr>\n",
       "    <tr>\n",
       "      <th>3</th>\n",
       "      <td>Armin van Buuren</td>\n",
       "      <td>A State Of Trance (ASOT 1012) - ASOT Yearmix 2...</td>\n",
       "      <td>2spPLfhb8c7rPxz28IdeXR</td>\n",
       "      <td>40</td>\n",
       "    </tr>\n",
       "    <tr>\n",
       "      <th>4</th>\n",
       "      <td>The Weeknd</td>\n",
       "      <td>Save Your Tears</td>\n",
       "      <td>5QO79kh1waicV47BqGRL3g</td>\n",
       "      <td>96</td>\n",
       "    </tr>\n",
       "    <tr>\n",
       "      <th>5</th>\n",
       "      <td>Hammock</td>\n",
       "      <td>Longest Year - 2020</td>\n",
       "      <td>51TAp7p7B3xboCl5HWmEkF</td>\n",
       "      <td>32</td>\n",
       "    </tr>\n",
       "    <tr>\n",
       "      <th>6</th>\n",
       "      <td>Giveon</td>\n",
       "      <td>Heartbreak Anniversary</td>\n",
       "      <td>3FAJ6O0NOHQV8Mc5Ri6ENp</td>\n",
       "      <td>93</td>\n",
       "    </tr>\n",
       "    <tr>\n",
       "      <th>7</th>\n",
       "      <td>Hammock</td>\n",
       "      <td>Dark Beyond the Blue - 2020</td>\n",
       "      <td>79hqdNpnWPVVxmZiDfKaIL</td>\n",
       "      <td>39</td>\n",
       "    </tr>\n",
       "    <tr>\n",
       "      <th>8</th>\n",
       "      <td>The Weeknd</td>\n",
       "      <td>Blinding Lights</td>\n",
       "      <td>0VjIjW4GlUZAMYd2vXMi3b</td>\n",
       "      <td>95</td>\n",
       "    </tr>\n",
       "    <tr>\n",
       "      <th>9</th>\n",
       "      <td>FUZZZY</td>\n",
       "      <td>Smile Year 2020 Pick up Line</td>\n",
       "      <td>2Uj2Vz9s4vcGSmiiiqWADs</td>\n",
       "      <td>19</td>\n",
       "    </tr>\n",
       "  </tbody>\n",
       "</table>\n",
       "</div>"
      ],
      "text/plain": [
       "        artist_name                                         track_name  \\\n",
       "0        Kali Uchis                                          telepatía   \n",
       "1       Ema Spatula                                          Year 2020   \n",
       "2               SZA                                          Good Days   \n",
       "3  Armin van Buuren  A State Of Trance (ASOT 1012) - ASOT Yearmix 2...   \n",
       "4        The Weeknd                                    Save Your Tears   \n",
       "5           Hammock                                Longest Year - 2020   \n",
       "6            Giveon                             Heartbreak Anniversary   \n",
       "7           Hammock                        Dark Beyond the Blue - 2020   \n",
       "8        The Weeknd                                    Blinding Lights   \n",
       "9            FUZZZY                       Smile Year 2020 Pick up Line   \n",
       "\n",
       "                 track_id  popularity  \n",
       "0  6tDDoYIxWvMLTdKpjFkc1B          95  \n",
       "1  6s0QJ4tfTOkkkOMQz8HCrg          17  \n",
       "2  3YJJjQPAbDT7mGpX3WtQ9A          91  \n",
       "3  2spPLfhb8c7rPxz28IdeXR          40  \n",
       "4  5QO79kh1waicV47BqGRL3g          96  \n",
       "5  51TAp7p7B3xboCl5HWmEkF          32  \n",
       "6  3FAJ6O0NOHQV8Mc5Ri6ENp          93  \n",
       "7  79hqdNpnWPVVxmZiDfKaIL          39  \n",
       "8  0VjIjW4GlUZAMYd2vXMi3b          95  \n",
       "9  2Uj2Vz9s4vcGSmiiiqWADs          19  "
      ]
     },
     "execution_count": 261,
     "metadata": {},
     "output_type": "execute_result"
    }
   ],
   "source": [
    "df_new_tracks"
   ]
  },
  {
   "cell_type": "code",
   "execution_count": 262,
   "metadata": {},
   "outputs": [],
   "source": [
    "rows = []\n",
    "batchsize = 10\n",
    "\n",
    "# Create list of audio features for each song\n",
    "for i in range(0,len(df_new_tracks['track_id']),batchsize):\n",
    "    batch = df_tracks['track_id'][i:i+batchsize]\n",
    "    feature_results = sp.audio_features(batch)\n",
    "    for i, t in enumerate(feature_results):\n",
    "        if t != None:\n",
    "            rows.append(t)"
   ]
  },
  {
   "cell_type": "markdown",
   "metadata": {},
   "source": [
    "## Extract Audio Featureds"
   ]
  },
  {
   "cell_type": "code",
   "execution_count": 263,
   "metadata": {},
   "outputs": [],
   "source": [
    "# Storing audio feature data of each song in a dataframe\n",
    "df_new_audio_features = pd.DataFrame.from_dict(rows,orient='columns')\n"
   ]
  },
  {
   "cell_type": "code",
   "execution_count": 264,
   "metadata": {},
   "outputs": [
    {
     "data": {
      "text/html": [
       "<div>\n",
       "<style scoped>\n",
       "    .dataframe tbody tr th:only-of-type {\n",
       "        vertical-align: middle;\n",
       "    }\n",
       "\n",
       "    .dataframe tbody tr th {\n",
       "        vertical-align: top;\n",
       "    }\n",
       "\n",
       "    .dataframe thead th {\n",
       "        text-align: right;\n",
       "    }\n",
       "</style>\n",
       "<table border=\"1\" class=\"dataframe\">\n",
       "  <thead>\n",
       "    <tr style=\"text-align: right;\">\n",
       "      <th></th>\n",
       "      <th>acousticness</th>\n",
       "      <th>energy</th>\n",
       "      <th>tempo</th>\n",
       "      <th>danceability</th>\n",
       "      <th>liveness</th>\n",
       "      <th>valence</th>\n",
       "    </tr>\n",
       "  </thead>\n",
       "  <tbody>\n",
       "    <tr>\n",
       "      <th>0</th>\n",
       "      <td>0.512000</td>\n",
       "      <td>0.6060</td>\n",
       "      <td>145.837</td>\n",
       "      <td>0.523</td>\n",
       "      <td>0.1060</td>\n",
       "      <td>0.065</td>\n",
       "    </tr>\n",
       "    <tr>\n",
       "      <th>1</th>\n",
       "      <td>0.355000</td>\n",
       "      <td>0.4570</td>\n",
       "      <td>102.166</td>\n",
       "      <td>0.626</td>\n",
       "      <td>0.0668</td>\n",
       "      <td>0.474</td>\n",
       "    </tr>\n",
       "    <tr>\n",
       "      <th>2</th>\n",
       "      <td>0.013500</td>\n",
       "      <td>0.7660</td>\n",
       "      <td>127.007</td>\n",
       "      <td>0.794</td>\n",
       "      <td>0.0785</td>\n",
       "      <td>0.550</td>\n",
       "    </tr>\n",
       "    <tr>\n",
       "      <th>3</th>\n",
       "      <td>0.709000</td>\n",
       "      <td>0.4430</td>\n",
       "      <td>119.903</td>\n",
       "      <td>0.417</td>\n",
       "      <td>0.2170</td>\n",
       "      <td>0.470</td>\n",
       "    </tr>\n",
       "    <tr>\n",
       "      <th>4</th>\n",
       "      <td>0.045500</td>\n",
       "      <td>0.4380</td>\n",
       "      <td>185.716</td>\n",
       "      <td>0.247</td>\n",
       "      <td>0.1110</td>\n",
       "      <td>0.390</td>\n",
       "    </tr>\n",
       "    <tr>\n",
       "      <th>5</th>\n",
       "      <td>0.000717</td>\n",
       "      <td>0.8660</td>\n",
       "      <td>127.009</td>\n",
       "      <td>0.585</td>\n",
       "      <td>0.1590</td>\n",
       "      <td>0.450</td>\n",
       "    </tr>\n",
       "    <tr>\n",
       "      <th>6</th>\n",
       "      <td>0.015100</td>\n",
       "      <td>0.8430</td>\n",
       "      <td>109.012</td>\n",
       "      <td>0.637</td>\n",
       "      <td>0.0876</td>\n",
       "      <td>0.434</td>\n",
       "    </tr>\n",
       "    <tr>\n",
       "      <th>7</th>\n",
       "      <td>0.172000</td>\n",
       "      <td>0.5760</td>\n",
       "      <td>150.840</td>\n",
       "      <td>0.265</td>\n",
       "      <td>0.0896</td>\n",
       "      <td>0.225</td>\n",
       "    </tr>\n",
       "    <tr>\n",
       "      <th>8</th>\n",
       "      <td>0.002960</td>\n",
       "      <td>0.8820</td>\n",
       "      <td>120.016</td>\n",
       "      <td>0.699</td>\n",
       "      <td>0.1300</td>\n",
       "      <td>0.657</td>\n",
       "    </tr>\n",
       "    <tr>\n",
       "      <th>9</th>\n",
       "      <td>0.969000</td>\n",
       "      <td>0.0855</td>\n",
       "      <td>69.893</td>\n",
       "      <td>0.314</td>\n",
       "      <td>0.1600</td>\n",
       "      <td>0.161</td>\n",
       "    </tr>\n",
       "  </tbody>\n",
       "</table>\n",
       "</div>"
      ],
      "text/plain": [
       "   acousticness  energy    tempo  danceability  liveness  valence\n",
       "0      0.512000  0.6060  145.837         0.523    0.1060    0.065\n",
       "1      0.355000  0.4570  102.166         0.626    0.0668    0.474\n",
       "2      0.013500  0.7660  127.007         0.794    0.0785    0.550\n",
       "3      0.709000  0.4430  119.903         0.417    0.2170    0.470\n",
       "4      0.045500  0.4380  185.716         0.247    0.1110    0.390\n",
       "5      0.000717  0.8660  127.009         0.585    0.1590    0.450\n",
       "6      0.015100  0.8430  109.012         0.637    0.0876    0.434\n",
       "7      0.172000  0.5760  150.840         0.265    0.0896    0.225\n",
       "8      0.002960  0.8820  120.016         0.699    0.1300    0.657\n",
       "9      0.969000  0.0855   69.893         0.314    0.1600    0.161"
      ]
     },
     "execution_count": 264,
     "metadata": {},
     "output_type": "execute_result"
    }
   ],
   "source": [
    "new_test_df = df_new_audio_features[['acousticness', 'energy', 'tempo', 'danceability', 'liveness', 'valence']]\n",
    "new_test_df"
   ]
  },
  {
   "cell_type": "markdown",
   "metadata": {},
   "source": [
    "## Get the probability a song belongs to each cluster"
   ]
  },
  {
   "cell_type": "code",
   "execution_count": 265,
   "metadata": {},
   "outputs": [],
   "source": [
    "# Method to compute the probabilty a new song belongs to each genre (cluster)\n",
    "def p_class_given_data(song, k, means, covars, p_class):\n",
    "    p_song_given_cluster = []\n",
    "    p_cluster_given_song = []\n",
    "    for cluster in range(k):\n",
    "        p_song_given_cluster.append( stats.multivariate_normal.pdf(x=song, mean=means[cluster], cov=covars[cluster]))\n",
    "        p_cluster_given_song.append( p_song_given_cluster[cluster] * p_class[cluster] )\n",
    "    \n",
    "    summ = sum(p_cluster_given_song)\n",
    "    \n",
    "    for cluster in range(k):\n",
    "        p_cluster_given_song[cluster] = p_cluster_given_song[cluster] / summ\n",
    "    \n",
    "    return  p_cluster_given_song"
   ]
  },
  {
   "cell_type": "code",
   "execution_count": 266,
   "metadata": {},
   "outputs": [
    {
     "name": "stdout",
     "output_type": "stream",
     "text": [
      "telepatía has genres ['colombian pop', 'pop']\n",
      "probability of belonging to cluster 0 with genres ['pop' 'dance pop' 'post-teen pop' 'hip hop'] : 0.9972\n",
      "probability of belonging to cluster 1 with genres ['country rock' 'rock' 'art rock' 'classic rock'] : 0.0\n",
      "probability of belonging to cluster 2 with genres ['pop' 'dance pop' 'post-teen pop' 'rap'] : 0.0028\n",
      "probability of belonging to cluster 3 with genres ['pop' 'dance pop' 'post-teen pop' 'pop rap'] : 0.0\n",
      "\n",
      "Year 2020 has genres []\n",
      "probability of belonging to cluster 0 with genres ['pop' 'dance pop' 'post-teen pop' 'hip hop'] : 0.9798\n",
      "probability of belonging to cluster 1 with genres ['country rock' 'rock' 'art rock' 'classic rock'] : 0.0\n",
      "probability of belonging to cluster 2 with genres ['pop' 'dance pop' 'post-teen pop' 'rap'] : 0.0027\n",
      "probability of belonging to cluster 3 with genres ['pop' 'dance pop' 'post-teen pop' 'pop rap'] : 0.0175\n",
      "\n",
      "Good Days has genres ['pop', 'pop rap', 'r&b']\n",
      "probability of belonging to cluster 0 with genres ['pop' 'dance pop' 'post-teen pop' 'hip hop'] : 0.0146\n",
      "probability of belonging to cluster 1 with genres ['country rock' 'rock' 'art rock' 'classic rock'] : 0.0\n",
      "probability of belonging to cluster 2 with genres ['pop' 'dance pop' 'post-teen pop' 'rap'] : 0.0313\n",
      "probability of belonging to cluster 3 with genres ['pop' 'dance pop' 'post-teen pop' 'pop rap'] : 0.9541\n",
      "\n",
      "A State Of Trance (ASOT 1012) - ASOT Yearmix 2020 Vinyl has genres ['dutch trance', 'edm', 'pop dance', 'progressive house', 'trance']\n",
      "probability of belonging to cluster 0 with genres ['pop' 'dance pop' 'post-teen pop' 'hip hop'] : 1.0\n",
      "probability of belonging to cluster 1 with genres ['country rock' 'rock' 'art rock' 'classic rock'] : 0.0\n",
      "probability of belonging to cluster 2 with genres ['pop' 'dance pop' 'post-teen pop' 'rap'] : 0.0\n",
      "probability of belonging to cluster 3 with genres ['pop' 'dance pop' 'post-teen pop' 'pop rap'] : 0.0\n",
      "\n",
      "Save Your Tears has genres ['canadian contemporary r&b', 'canadian pop', 'pop']\n",
      "probability of belonging to cluster 0 with genres ['pop' 'dance pop' 'post-teen pop' 'hip hop'] : 0.3306\n",
      "probability of belonging to cluster 1 with genres ['country rock' 'rock' 'art rock' 'classic rock'] : 0.0\n",
      "probability of belonging to cluster 2 with genres ['pop' 'dance pop' 'post-teen pop' 'rap'] : 0.0172\n",
      "probability of belonging to cluster 3 with genres ['pop' 'dance pop' 'post-teen pop' 'pop rap'] : 0.6522\n",
      "\n",
      "Longest Year - 2020 has genres ['ambient worship', 'compositional ambient', 'post-rock', 'space ambient']\n",
      "probability of belonging to cluster 0 with genres ['pop' 'dance pop' 'post-teen pop' 'hip hop'] : 0.0001\n",
      "probability of belonging to cluster 1 with genres ['country rock' 'rock' 'art rock' 'classic rock'] : 0.9989\n",
      "probability of belonging to cluster 2 with genres ['pop' 'dance pop' 'post-teen pop' 'rap'] : 0.0003\n",
      "probability of belonging to cluster 3 with genres ['pop' 'dance pop' 'post-teen pop' 'pop rap'] : 0.0007\n",
      "\n",
      "Heartbreak Anniversary has genres ['pop', 'r&b']\n",
      "probability of belonging to cluster 0 with genres ['pop' 'dance pop' 'post-teen pop' 'hip hop'] : 0.0154\n",
      "probability of belonging to cluster 1 with genres ['country rock' 'rock' 'art rock' 'classic rock'] : 0.0\n",
      "probability of belonging to cluster 2 with genres ['pop' 'dance pop' 'post-teen pop' 'rap'] : 0.0246\n",
      "probability of belonging to cluster 3 with genres ['pop' 'dance pop' 'post-teen pop' 'pop rap'] : 0.96\n",
      "\n",
      "Dark Beyond the Blue - 2020 has genres ['ambient worship', 'compositional ambient', 'post-rock', 'space ambient']\n",
      "probability of belonging to cluster 0 with genres ['pop' 'dance pop' 'post-teen pop' 'hip hop'] : 0.5067\n",
      "probability of belonging to cluster 1 with genres ['country rock' 'rock' 'art rock' 'classic rock'] : 0.0\n",
      "probability of belonging to cluster 2 with genres ['pop' 'dance pop' 'post-teen pop' 'rap'] : 0.008\n",
      "probability of belonging to cluster 3 with genres ['pop' 'dance pop' 'post-teen pop' 'pop rap'] : 0.4853\n",
      "\n",
      "Blinding Lights has genres ['canadian contemporary r&b', 'canadian pop', 'pop']\n",
      "probability of belonging to cluster 0 with genres ['pop' 'dance pop' 'post-teen pop' 'hip hop'] : 0.0172\n",
      "probability of belonging to cluster 1 with genres ['country rock' 'rock' 'art rock' 'classic rock'] : 0.6833\n",
      "probability of belonging to cluster 2 with genres ['pop' 'dance pop' 'post-teen pop' 'rap'] : 0.0229\n",
      "probability of belonging to cluster 3 with genres ['pop' 'dance pop' 'post-teen pop' 'pop rap'] : 0.2766\n",
      "\n",
      "Smile Year 2020 Pick up Line has genres []\n",
      "probability of belonging to cluster 0 with genres ['pop' 'dance pop' 'post-teen pop' 'hip hop'] : 1.0\n",
      "probability of belonging to cluster 1 with genres ['country rock' 'rock' 'art rock' 'classic rock'] : 0.0\n",
      "probability of belonging to cluster 2 with genres ['pop' 'dance pop' 'post-teen pop' 'rap'] : 0.0\n",
      "probability of belonging to cluster 3 with genres ['pop' 'dance pop' 'post-teen pop' 'pop rap'] : 0.0\n",
      "\n"
     ]
    }
   ],
   "source": [
    "for index in range(10):\n",
    "    song = list(new_test_df.iloc[index].values)\n",
    "    print(df_new_tracks.iloc[index]['track_name'], \"has genres\", genres[index])\n",
    "    probs = p_class_given_data(song, 4, m4, c4, p4)\n",
    "\n",
    "\n",
    "    print(\"probability of belonging to cluster 0 with genres\", get_popular_genres(4, c1_flat).values, \":\", probs[0].round(4))\n",
    "    print(\"probability of belonging to cluster 1 with genres\", get_popular_genres(4, c2_flat).values, \":\", probs[1].round(4))\n",
    "    print(\"probability of belonging to cluster 2 with genres\", get_popular_genres(4, c3_flat).values, \":\", probs[2].round(4))\n",
    "    print(\"probability of belonging to cluster 3 with genres\", get_popular_genres(4, c4_flat).values, \":\", probs[3].round(4))\n",
    "    print(\"\")\n",
    "\n",
    "    "
   ]
  }
 ],
 "metadata": {
  "kernelspec": {
   "display_name": "Python 3",
   "language": "python",
   "name": "python3"
  },
  "language_info": {
   "codemirror_mode": {
    "name": "ipython",
    "version": 3
   },
   "file_extension": ".py",
   "mimetype": "text/x-python",
   "name": "python",
   "nbconvert_exporter": "python",
   "pygments_lexer": "ipython3",
   "version": "3.7.3"
  }
 },
 "nbformat": 4,
 "nbformat_minor": 2
}
